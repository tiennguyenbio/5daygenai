{
 "cells": [
  {
   "cell_type": "markdown",
   "id": "9ef055bb",
   "metadata": {
    "papermill": {
     "duration": 0.008558,
     "end_time": "2025-04-02T01:54:11.818638",
     "exception": false,
     "start_time": "2025-04-02T01:54:11.810080",
     "status": "completed"
    },
    "tags": []
   },
   "source": [
    "Copyright 2025 Google LLC."
   ]
  },
  {
   "cell_type": "code",
   "execution_count": 1,
   "id": "64f4b766",
   "metadata": {
    "execution": {
     "iopub.execute_input": "2025-04-02T01:54:11.835972Z",
     "iopub.status.busy": "2025-04-02T01:54:11.835557Z",
     "iopub.status.idle": "2025-04-02T01:54:11.841861Z",
     "shell.execute_reply": "2025-04-02T01:54:11.840683Z"
    },
    "jupyter": {
     "source_hidden": true
    },
    "papermill": {
     "duration": 0.017348,
     "end_time": "2025-04-02T01:54:11.843984",
     "exception": false,
     "start_time": "2025-04-02T01:54:11.826636",
     "status": "completed"
    },
    "tags": []
   },
   "outputs": [],
   "source": [
    "# @title Licensed under the Apache License, Version 2.0 (the \"License\");\n",
    "# you may not use this file except in compliance with the License.\n",
    "# You may obtain a copy of the License at\n",
    "#\n",
    "# https://www.apache.org/licenses/LICENSE-2.0\n",
    "#\n",
    "# Unless required by applicable law or agreed to in writing, software\n",
    "# distributed under the License is distributed on an \"AS IS\" BASIS,\n",
    "# WITHOUT WARRANTIES OR CONDITIONS OF ANY KIND, either express or implied.\n",
    "# See the License for the specific language governing permissions and\n",
    "# limitations under the License."
   ]
  },
  {
   "cell_type": "markdown",
   "id": "0b7e86ef",
   "metadata": {
    "id": "jYWMmQV7SJt6",
    "papermill": {
     "duration": 0.007996,
     "end_time": "2025-04-02T01:54:11.860548",
     "exception": false,
     "start_time": "2025-04-02T01:54:11.852552",
     "status": "completed"
    },
    "tags": []
   },
   "source": [
    "# Day 1 - Evaluation and structured output\n",
    "\n",
    "## Overview\n",
    "\n",
    "Welcome back to the Kaggle 5-day Generative AI course. In this notebook, you'll learn some techniques for evaluating the output of a language model. As part of the evaluation, you will also use Gemini's structured data capability to produce evaluation results as instances of Python types.\n",
    "\n",
    "Note: This notebook is more code-heavy than the first Day 1 notebook ([Prompting](https://www.kaggle.com/code/markishere/day-1-prompting/)). This notebook is not a prerequisite for days 2 and beyond, so feel free to skip over it, or come back later in the week. If you have not yet tried the [Prompting](https://www.kaggle.com/code/markishere/day-1-prompting/) notebook, start there first as it introduces the fundamentals for interacting with LLMs.\n",
    "\n",
    "Also check out the **bonus whitepaper** on [Evaluating Large Language Models](https://services.google.com/fh/files/blogs/neurips_evaluation.pdf).\n",
    "\n",
    "## For help\n",
    "\n",
    "**Common issues are covered in the [FAQ and troubleshooting guide](https://www.kaggle.com/code/markishere/day-0-troubleshooting-and-faqs).**\n"
   ]
  },
  {
   "cell_type": "markdown",
   "id": "44986193",
   "metadata": {
    "id": "ZrE2lTyXSMmz",
    "papermill": {
     "duration": 0.008192,
     "end_time": "2025-04-02T01:54:11.877098",
     "exception": false,
     "start_time": "2025-04-02T01:54:11.868906",
     "status": "completed"
    },
    "tags": []
   },
   "source": [
    "## Setup\n",
    "\n",
    "Install the Python SDK."
   ]
  },
  {
   "cell_type": "code",
   "execution_count": 2,
   "id": "f3c00b46",
   "metadata": {
    "execution": {
     "iopub.execute_input": "2025-04-02T01:54:11.895003Z",
     "iopub.status.busy": "2025-04-02T01:54:11.894589Z",
     "iopub.status.idle": "2025-04-02T01:54:19.382569Z",
     "shell.execute_reply": "2025-04-02T01:54:19.380999Z"
    },
    "id": "lEwSQePeF6w-",
    "papermill": {
     "duration": 7.499407,
     "end_time": "2025-04-02T01:54:19.384752",
     "exception": false,
     "start_time": "2025-04-02T01:54:11.885345",
     "status": "completed"
    },
    "tags": []
   },
   "outputs": [
    {
     "name": "stdout",
     "output_type": "stream",
     "text": [
      "\u001b[2K   \u001b[90m━━━━━━━━━━━━━━━━━━━━━━━━━━━━━━━━━━━━━━━━\u001b[0m \u001b[32m144.7/144.7 kB\u001b[0m \u001b[31m6.9 MB/s\u001b[0m eta \u001b[36m0:00:00\u001b[0m\r\n",
      "\u001b[2K   \u001b[90m━━━━━━━━━━━━━━━━━━━━━━━━━━━━━━━━━━━━━━━━\u001b[0m \u001b[32m100.9/100.9 kB\u001b[0m \u001b[31m4.6 MB/s\u001b[0m eta \u001b[36m0:00:00\u001b[0m\r\n",
      "\u001b[?25h"
     ]
    }
   ],
   "source": [
    "!pip install -Uq \"google-genai==1.7.0\""
   ]
  },
  {
   "cell_type": "code",
   "execution_count": 3,
   "id": "a0578017",
   "metadata": {
    "execution": {
     "iopub.execute_input": "2025-04-02T01:54:19.402987Z",
     "iopub.status.busy": "2025-04-02T01:54:19.402535Z",
     "iopub.status.idle": "2025-04-02T01:54:20.721022Z",
     "shell.execute_reply": "2025-04-02T01:54:20.719646Z"
    },
    "id": "VWZlEwomGDir",
    "outputId": "e4e4a419-7be5-4b0e-c534-25a089c65600",
    "papermill": {
     "duration": 1.329879,
     "end_time": "2025-04-02T01:54:20.723074",
     "exception": false,
     "start_time": "2025-04-02T01:54:19.393195",
     "status": "completed"
    },
    "tags": []
   },
   "outputs": [
    {
     "data": {
      "text/plain": [
       "'1.7.0'"
      ]
     },
     "execution_count": 3,
     "metadata": {},
     "output_type": "execute_result"
    }
   ],
   "source": [
    "from google import genai\n",
    "from google.genai import types\n",
    "\n",
    "from IPython.display import Markdown, display\n",
    "\n",
    "genai.__version__"
   ]
  },
  {
   "cell_type": "markdown",
   "id": "4e6309fe",
   "metadata": {
    "papermill": {
     "duration": 0.008319,
     "end_time": "2025-04-02T01:54:20.740564",
     "exception": false,
     "start_time": "2025-04-02T01:54:20.732245",
     "status": "completed"
    },
    "tags": []
   },
   "source": [
    "### Set up your API key\n",
    "\n",
    "To run the following cell, your API key must be stored it in a [Kaggle secret](https://www.kaggle.com/discussions/product-feedback/114053) named `GOOGLE_API_KEY`.\n",
    "\n",
    "If you don't already have an API key, you can grab one from [AI Studio](https://aistudio.google.com/app/apikey). You can find [detailed instructions in the docs](https://ai.google.dev/gemini-api/docs/api-key).\n",
    "\n",
    "To make the key available through Kaggle secrets, choose `Secrets` from the `Add-ons` menu and follow the instructions to add your key or enable it for this notebook."
   ]
  },
  {
   "cell_type": "code",
   "execution_count": 4,
   "id": "91ed22e5",
   "metadata": {
    "execution": {
     "iopub.execute_input": "2025-04-02T01:54:20.759775Z",
     "iopub.status.busy": "2025-04-02T01:54:20.759081Z",
     "iopub.status.idle": "2025-04-02T01:54:21.266224Z",
     "shell.execute_reply": "2025-04-02T01:54:21.264894Z"
    },
    "id": "UteFYo7jGHRf",
    "papermill": {
     "duration": 0.519433,
     "end_time": "2025-04-02T01:54:21.268657",
     "exception": false,
     "start_time": "2025-04-02T01:54:20.749224",
     "status": "completed"
    },
    "tags": []
   },
   "outputs": [],
   "source": [
    "from kaggle_secrets import UserSecretsClient\n",
    "\n",
    "client = genai.Client(api_key=UserSecretsClient().get_secret(\"GOOGLE_API_KEY\"))"
   ]
  },
  {
   "cell_type": "markdown",
   "id": "352c5972",
   "metadata": {
    "papermill": {
     "duration": 0.007784,
     "end_time": "2025-04-02T01:54:21.286210",
     "exception": false,
     "start_time": "2025-04-02T01:54:21.278426",
     "status": "completed"
    },
    "tags": []
   },
   "source": [
    "If you received an error response along the lines of `No user secrets exist for kernel id ...`, then you need to add your API key via `Add-ons`, `Secrets` **and** enable it.\n",
    "\n",
    "![Screenshot of the checkbox to enable GOOGLE_API_KEY secret](https://storage.googleapis.com/kaggle-media/Images/5gdai_sc_3.png)"
   ]
  },
  {
   "cell_type": "markdown",
   "id": "7ec504f2",
   "metadata": {
    "id": "eCa4OX2DNyLI",
    "papermill": {
     "duration": 0.007784,
     "end_time": "2025-04-02T01:54:21.302609",
     "exception": false,
     "start_time": "2025-04-02T01:54:21.294825",
     "status": "completed"
    },
    "tags": []
   },
   "source": [
    "### Automated retry\n",
    "\n",
    "This codelab sends a lot of requests, so set up an automatic retry\n",
    "that ensures your requests are retried when per-minute quota is reached."
   ]
  },
  {
   "cell_type": "code",
   "execution_count": 5,
   "id": "d437886a",
   "metadata": {
    "execution": {
     "iopub.execute_input": "2025-04-02T01:54:21.321150Z",
     "iopub.status.busy": "2025-04-02T01:54:21.320709Z",
     "iopub.status.idle": "2025-04-02T01:54:21.705819Z",
     "shell.execute_reply": "2025-04-02T01:54:21.704378Z"
    },
    "id": "V8as-_Hnr_cj",
    "papermill": {
     "duration": 0.396993,
     "end_time": "2025-04-02T01:54:21.707935",
     "exception": false,
     "start_time": "2025-04-02T01:54:21.310942",
     "status": "completed"
    },
    "tags": []
   },
   "outputs": [],
   "source": [
    "from google.api_core import retry\n",
    "\n",
    "is_retriable = lambda e: (isinstance(e, genai.errors.APIError) and e.code in {429, 503})\n",
    "\n",
    "if not hasattr(genai.models.Models.generate_content, '__wrapped__'):\n",
    "  genai.models.Models.generate_content = retry.Retry(\n",
    "      predicate=is_retriable)(genai.models.Models.generate_content)"
   ]
  },
  {
   "cell_type": "markdown",
   "id": "28379d9b",
   "metadata": {
    "id": "ZKH1is0gSO0p",
    "papermill": {
     "duration": 0.007783,
     "end_time": "2025-04-02T01:54:21.724318",
     "exception": false,
     "start_time": "2025-04-02T01:54:21.716535",
     "status": "completed"
    },
    "tags": []
   },
   "source": [
    "## Evaluation"
   ]
  },
  {
   "cell_type": "markdown",
   "id": "cb615398",
   "metadata": {
    "id": "ToUMpZTgGnyh",
    "papermill": {
     "duration": 0.007563,
     "end_time": "2025-04-02T01:54:21.739852",
     "exception": false,
     "start_time": "2025-04-02T01:54:21.732289",
     "status": "completed"
    },
    "tags": []
   },
   "source": [
    "When using LLMs in real-world cases, it's important to understand how well they are performing. The open-ended generation capabilities of LLMs can make many cases difficult to measure. In this notebook you will walk through some simple techniques for evaluating LLM outputs and understanding their performance.\n",
    "\n",
    "For this example, you'll evaluate a summarisation task using the [Gemini 1.5 Pro technical report](https://storage.googleapis.com/cloud-samples-data/generative-ai/pdf/2403.05530.pdf). Start by downloading the PDF to the notebook environment, and uploading that copy for use with the Gemini API."
   ]
  },
  {
   "cell_type": "code",
   "execution_count": 6,
   "id": "5129d599",
   "metadata": {
    "execution": {
     "iopub.execute_input": "2025-04-02T01:54:21.757489Z",
     "iopub.status.busy": "2025-04-02T01:54:21.756780Z",
     "iopub.status.idle": "2025-04-02T01:54:23.466995Z",
     "shell.execute_reply": "2025-04-02T01:54:23.465682Z"
    },
    "id": "VVo85Inrn65Z",
    "outputId": "52c2de9c-9665-4261-c6ba-4a6692ea9e30",
    "papermill": {
     "duration": 1.721602,
     "end_time": "2025-04-02T01:54:23.469345",
     "exception": false,
     "start_time": "2025-04-02T01:54:21.747743",
     "status": "completed"
    },
    "tags": []
   },
   "outputs": [
    {
     "name": "stdout",
     "output_type": "stream",
     "text": [
      "2025-04-02 01:54:21 URL:https://storage.googleapis.com/cloud-samples-data/generative-ai/pdf/2403.05530.pdf [7228817/7228817] -> \"gemini.pdf\" [1]\r\n"
     ]
    }
   ],
   "source": [
    "#download the pdf notebook\n",
    "!wget -nv -O gemini.pdf https://storage.googleapis.com/cloud-samples-data/generative-ai/pdf/2403.05530.pdf\n",
    "#upload the notebook\n",
    "document_file = client.files.upload(file='gemini.pdf')"
   ]
  },
  {
   "cell_type": "markdown",
   "id": "d0f30046",
   "metadata": {
    "id": "OziWUFKNqQEy",
    "papermill": {
     "duration": 0.007667,
     "end_time": "2025-04-02T01:54:23.485469",
     "exception": false,
     "start_time": "2025-04-02T01:54:23.477802",
     "status": "completed"
    },
    "tags": []
   },
   "source": [
    "### Summarise a document\n",
    "\n",
    "The summarisation request used here is fairly basic. It targets the training content specifically but provides no guidance otherwise."
   ]
  },
  {
   "cell_type": "code",
   "execution_count": 7,
   "id": "2b427343",
   "metadata": {
    "execution": {
     "iopub.execute_input": "2025-04-02T01:54:23.504274Z",
     "iopub.status.busy": "2025-04-02T01:54:23.503932Z",
     "iopub.status.idle": "2025-04-02T01:54:36.363094Z",
     "shell.execute_reply": "2025-04-02T01:54:36.361849Z"
    },
    "id": "Jxx92-z90tPS",
    "outputId": "1ed16b55-d456-4099-acac-04e9540c6aee",
    "papermill": {
     "duration": 12.870687,
     "end_time": "2025-04-02T01:54:36.365111",
     "exception": false,
     "start_time": "2025-04-02T01:54:23.494424",
     "status": "completed"
    },
    "tags": []
   },
   "outputs": [
    {
     "data": {
      "text/markdown": [
       "Based on the document you provided, here's a breakdown of the training process used for Gemini 1.5 Pro:\n",
       "\n",
       "**1. Model Architecture:**\n",
       "\n",
       "*   Gemini 1.5 Pro is a **sparse mixture-of-experts (MoE) Transformer-based model.** This means it builds upon the Transformer architecture (Vaswani et al., 2017) but incorporates a MoE structure.\n",
       "*   MoE models use a **learned routing function** to direct inputs to a subset of the model's parameters for processing. This allows the model to have a large total parameter count while only activating a portion of those parameters for any given input.\n",
       "\n",
       "**2. Training Data:**\n",
       "\n",
       "*   The model is trained on a **variety of multimodal and multilingual data.**\n",
       "*   The pre-training dataset includes data sourced from many different domains, including **web documents, code, images, audio, and video content.**\n",
       "\n",
       "**3. Training Infrastructure:**\n",
       "\n",
       "*   Gemini 1.5 Pro is trained on **multiple 4096-chip pods of Google's TPUv4 accelerators**, distributed across multiple datacenters.\n",
       "\n",
       "**4. Training Process:**\n",
       "\n",
       "*   **Pre-training:** The model is initially pre-trained on the large, diverse dataset mentioned above.\n",
       "*   **Instruction Tuning:** After pre-training, Gemini 1.5 Pro is fine-tuned on a collection of multimodal data containing paired instructions and appropriate responses.\n",
       "*   **Human Preference Tuning:** Further tuning is performed based on human preference data.\n",
       "\n",
       "**Key Aspects and Innovations:**\n",
       "\n",
       "*   **Long Context Understanding:** A series of significant architecture changes enable long-context understanding of inputs up to 10 million tokens without degrading performance.\n",
       "*   **Efficiency:** Improvements across the entire model stack (architecture, data, optimization, and systems) allow Gemini 1.5 Pro to achieve comparable quality to Gemini 1.0 Ultra while using significantly less training compute and being significantly more efficient to serve.\n",
       "*   **Multimodality:** The model is natively multimodal and supports interleaving of data from different modalities (audio, visual, text, code) in the same input sequence.\n",
       "\n",
       "In summary, the training process involves a combination of large-scale pre-training on diverse multimodal data, followed by instruction tuning and human preference tuning, all leveraging a MoE architecture and Google's TPU infrastructure. A key focus is on enabling the model to handle extremely long contexts effectively.\n"
      ],
      "text/plain": [
       "<IPython.core.display.Markdown object>"
      ]
     },
     "execution_count": 7,
     "metadata": {},
     "output_type": "execute_result"
    }
   ],
   "source": [
    "request = 'Tell me about the training process used here.'\n",
    "\n",
    "def summarise_doc(request: str) -> str:\n",
    "  \"\"\"Execute the request on the uploaded document.\"\"\"\n",
    "  # Set the temperature low to stabilise the output.\n",
    "  config = types.GenerateContentConfig(temperature=0.0)\n",
    "  response = client.models.generate_content(\n",
    "      model='gemini-2.0-flash',\n",
    "      config=config,\n",
    "      contents=[request, document_file],\n",
    "  )\n",
    "\n",
    "  return response.text\n",
    "\n",
    "summary = summarise_doc(request)\n",
    "Markdown(summary)"
   ]
  },
  {
   "cell_type": "markdown",
   "id": "ca4cabe1",
   "metadata": {
    "id": "6rR0v4Iw64x0",
    "papermill": {
     "duration": 0.008439,
     "end_time": "2025-04-02T01:54:36.382860",
     "exception": false,
     "start_time": "2025-04-02T01:54:36.374421",
     "status": "completed"
    },
    "tags": []
   },
   "source": [
    "### Define an evaluator\n",
    "\n",
    "For a task like this, you may wish to evaluate a number of aspects, like how well the model followed the prompt (\"instruction following\"), whether it included relevant data in the prompt (\"groundedness\"), how easy the text is to read (\"fluency\"), or other factors like \"verbosity\" or \"quality\".\n",
    "\n",
    "You can instruct an LLM to perform these tasks in a similar manner to how you would instruct a human rater: with a clear definition and [assessment rubric](https://en.wikipedia.org/wiki/Rubric_%28academic%29).\n",
    "\n",
    "In this step, you define an evaluation agent using a pre-written \"summarisation\" prompt and use it to gauge the quality of the generated summary.\n",
    "\n",
    "Note: For more pre-written evaluation prompts covering groundedness, safety, coherence and more, check out this [comprehensive list of model-based evaluation prompts](https://cloud.google.com/vertex-ai/generative-ai/docs/models/metrics-templates) from the Google Cloud docs."
   ]
  },
  {
   "cell_type": "code",
   "execution_count": 8,
   "id": "8f18b850",
   "metadata": {
    "execution": {
     "iopub.execute_input": "2025-04-02T01:54:36.401352Z",
     "iopub.status.busy": "2025-04-02T01:54:36.401013Z",
     "iopub.status.idle": "2025-04-02T01:54:37.894172Z",
     "shell.execute_reply": "2025-04-02T01:54:37.892823Z"
    },
    "id": "xEAXtJte-Ajv",
    "outputId": "04459189-13ee-49e6-fe4d-525d323b1609",
    "papermill": {
     "duration": 1.504808,
     "end_time": "2025-04-02T01:54:37.896153",
     "exception": false,
     "start_time": "2025-04-02T01:54:36.391345",
     "status": "completed"
    },
    "tags": []
   },
   "outputs": [
    {
     "data": {
      "text/markdown": [
       "STEP 1: The response summarizes the training process in the document provided. It gives a detailed description of the model architecture, training data, training infrastructure, and training process. The response is well-organized and easy to read.\n",
       "\n",
       "STEP 2: The response follows instructions, is grounded, is concise, and fluent.\n",
       "\n",
       "Rating: 5\n"
      ],
      "text/plain": [
       "<IPython.core.display.Markdown object>"
      ]
     },
     "execution_count": 8,
     "metadata": {},
     "output_type": "execute_result"
    }
   ],
   "source": [
    "import enum\n",
    "\n",
    "# Define the evaluation prompt\n",
    "SUMMARY_PROMPT = \"\"\"\\\n",
    "# Instruction\n",
    "You are an expert evaluator. Your task is to evaluate the quality of the responses generated by AI models.\n",
    "We will provide you with the user input and an AI-generated responses.\n",
    "You should first read the user input carefully for analyzing the task, and then evaluate the quality of the responses based on the Criteria provided in the Evaluation section below.\n",
    "You will assign the response a rating following the Rating Rubric and Evaluation Steps. Give step-by-step explanations for your rating, and only choose ratings from the Rating Rubric.\n",
    "\n",
    "# Evaluation\n",
    "## Metric Definition\n",
    "You will be assessing summarization quality, which measures the overall ability to summarize text. Pay special attention to length constraints, such as in X words or in Y sentences. The instruction for performing a summarization task and the context to be summarized are provided in the user prompt. The response should be shorter than the text in the context. The response should not contain information that is not present in the context.\n",
    "\n",
    "## Criteria\n",
    "Instruction following: The response demonstrates a clear understanding of the summarization task instructions, satisfying all of the instruction's requirements.\n",
    "Groundedness: The response contains information included only in the context. The response does not reference any outside information.\n",
    "Conciseness: The response summarizes the relevant details in the original text without a significant loss in key information without being too verbose or terse.\n",
    "Fluency: The response is well-organized and easy to read.\n",
    "\n",
    "## Rating Rubric\n",
    "5: (Very good). The summary follows instructions, is grounded, is concise, and fluent.\n",
    "4: (Good). The summary follows instructions, is grounded, concise, and fluent.\n",
    "3: (Ok). The summary mostly follows instructions, is grounded, but is not very concise and is not fluent.\n",
    "2: (Bad). The summary is grounded, but does not follow the instructions.\n",
    "1: (Very bad). The summary is not grounded.\n",
    "\n",
    "## Evaluation Steps\n",
    "STEP 1: Assess the response in aspects of instruction following, groundedness, conciseness, and verbosity according to the criteria.\n",
    "STEP 2: Score based on the rubric.\n",
    "\n",
    "# User Inputs and AI-generated Response\n",
    "## User Inputs\n",
    "\n",
    "### Prompt\n",
    "{prompt}\n",
    "\n",
    "## AI-generated Response\n",
    "{response}\n",
    "\"\"\"\n",
    "\n",
    "# Define a structured enum class to capture the result.\n",
    "class SummaryRating(enum.Enum):\n",
    "  VERY_GOOD = '5'\n",
    "  GOOD = '4'\n",
    "  OK = '3'\n",
    "  BAD = '2'\n",
    "  VERY_BAD = '1'\n",
    "\n",
    "\n",
    "def eval_summary(prompt, ai_response):\n",
    "  \"\"\"Evaluate the generated summary against the prompt used.\"\"\"\n",
    "\n",
    "  chat = client.chats.create(model='gemini-2.0-flash')\n",
    "\n",
    "  # Generate the full text response.\n",
    "  response = chat.send_message(\n",
    "      message=SUMMARY_PROMPT.format(prompt=prompt, response=ai_response)\n",
    "  )\n",
    "  verbose_eval = response.text\n",
    "\n",
    "  # Coerce into the desired structure.\n",
    "  structured_output_config = types.GenerateContentConfig(\n",
    "      response_mime_type=\"text/x.enum\",\n",
    "      response_schema=SummaryRating,\n",
    "  )\n",
    "  response = chat.send_message(\n",
    "      message=\"Convert the final score.\",\n",
    "      config=structured_output_config,\n",
    "  )\n",
    "  structured_eval = response.parsed\n",
    "\n",
    "  return verbose_eval, structured_eval\n",
    "\n",
    "\n",
    "text_eval, struct_eval = eval_summary(prompt=[request, document_file], ai_response=summary)\n",
    "Markdown(text_eval)"
   ]
  },
  {
   "cell_type": "markdown",
   "id": "689183e1",
   "metadata": {
    "id": "qfkQ0lUByy2o",
    "papermill": {
     "duration": 0.00813,
     "end_time": "2025-04-02T01:54:37.913047",
     "exception": false,
     "start_time": "2025-04-02T01:54:37.904917",
     "status": "completed"
    },
    "tags": []
   },
   "source": [
    "In this example, the model generated a textual justification that was set up in a chat context. This full text response is useful both for human interpretation and for giving the model a place to \"collect notes\" while it assesses the text and produces a final score. This \"note taking\" or \"thinking\" strategy typically works well with auto-regressive models, where the generated text is passed back into the model at each generation step. This means the working \"notes\" are used when generating final result output.\n",
    "\n",
    "In the next turn, the model converts the text output into a structured response. If you want to aggregate scores or use them programatically then you want to avoid parsing the unstructured text output. Here the `SummaryRating` schema is passed, so the model converts the chat history into an instance of the `SummaryRating` enum."
   ]
  },
  {
   "cell_type": "code",
   "execution_count": 9,
   "id": "d2979074",
   "metadata": {
    "execution": {
     "iopub.execute_input": "2025-04-02T01:54:37.932222Z",
     "iopub.status.busy": "2025-04-02T01:54:37.931886Z",
     "iopub.status.idle": "2025-04-02T01:54:37.938706Z",
     "shell.execute_reply": "2025-04-02T01:54:37.937294Z"
    },
    "id": "Ow9J9tgORiqt",
    "outputId": "2655150b-5f2c-4dfb-be61-fe1aa891c4c3",
    "papermill": {
     "duration": 0.019213,
     "end_time": "2025-04-02T01:54:37.940871",
     "exception": false,
     "start_time": "2025-04-02T01:54:37.921658",
     "status": "completed"
    },
    "tags": []
   },
   "outputs": [
    {
     "data": {
      "text/plain": [
       "<SummaryRating.VERY_GOOD: '5'>"
      ]
     },
     "execution_count": 9,
     "metadata": {},
     "output_type": "execute_result"
    }
   ],
   "source": [
    "struct_eval"
   ]
  },
  {
   "cell_type": "markdown",
   "id": "f91503e0",
   "metadata": {
    "id": "ox04QsdMuo59",
    "papermill": {
     "duration": 0.008402,
     "end_time": "2025-04-02T01:54:37.958514",
     "exception": false,
     "start_time": "2025-04-02T01:54:37.950112",
     "status": "completed"
    },
    "tags": []
   },
   "source": [
    "### Make the summary prompt better or worse\n",
    "\n",
    "Gemini models tend to be quite good at tasks like direct summarisation without much prompting, so you should expect to see a result like `GOOD` or `VERY_GOOD` on the previous task, even with a rudimentary prompt. Run it a few times to get a feel for the average response.\n",
    "\n",
    "To explore how to influence the summarisation output, consider what you might change in the summary request prompt to change the result. Take a look at the evaluation `SUMMARY_PROMPT` for some ideas.\n",
    "\n",
    "Try the following tweaks and see how they positively or negatively change the result:\n",
    "* Be specific with the size of the summary,\n",
    "* Request specific information,\n",
    "* Ask about information that is not in the document,\n",
    "* Ask for different degrees of summarisation (such as \"explain like I'm 5\" or \"with full technical depth\")"
   ]
  },
  {
   "cell_type": "code",
   "execution_count": 10,
   "id": "46b2119e",
   "metadata": {
    "execution": {
     "iopub.execute_input": "2025-04-02T01:54:37.977555Z",
     "iopub.status.busy": "2025-04-02T01:54:37.977071Z",
     "iopub.status.idle": "2025-04-02T01:54:53.329766Z",
     "shell.execute_reply": "2025-04-02T01:54:53.328468Z"
    },
    "id": "u7TPwfAquvbb",
    "outputId": "12a24ca3-40c1-40c7-b5e9-a6f3653d162e",
    "papermill": {
     "duration": 15.364459,
     "end_time": "2025-04-02T01:54:53.331609",
     "exception": false,
     "start_time": "2025-04-02T01:54:37.967150",
     "status": "completed"
    },
    "tags": []
   },
   "outputs": [
    {
     "data": {
      "text/markdown": [
       "Okay, I can explain the training process of a large language model like Gemini 1.5 Pro in a way that a 5-year-old can understand.\n",
       "\n",
       "Imagine you have a puppy, and you want to teach it to understand and do tricks.\n",
       "\n",
       "1.  **Lots and Lots of Examples:** First, you show the puppy tons and tons of things. You show it pictures of cats, dogs, cars, and houses. You also read it lots of stories and tell it lots of things. This is like giving the computer model a huge pile of books, pictures, videos, and sounds.\n",
       "\n",
       "2.  **Learning the Rules:** The puppy starts to notice patterns. It sees that cats have pointy ears and dogs have floppy ears. It learns that when you say \"sit,\" it should put its bottom on the ground. The computer model does the same thing. It looks for patterns in all the information it has and learns the rules of language and the world.\n",
       "\n",
       "3.  **Practicing and Getting Feedback:** Now, you ask the puppy to do things. You say \"sit,\" and if it sits, you give it a treat and say \"Good dog!\" If it doesn't sit, you gently show it what to do. The computer model also practices. It tries to answer questions, write stories, and translate languages. If it does a good job, it gets a \"treat\" (a small adjustment to its rules). If it makes a mistake, it gets corrected.\n",
       "\n",
       "4.  **Getting Better and Better:** The puppy keeps practicing and getting feedback, and it gets better and better at understanding and doing tricks. The computer model does the same thing. It keeps learning from its mistakes and getting better at all the different tasks it can do.\n",
       "\n",
       "So, basically, training a large language model is like teaching a puppy, but instead of treats and belly rubs, you use math and computers to help it learn! The more examples you give it, and the more feedback it gets, the smarter it becomes.\n",
       "-----"
      ],
      "text/plain": [
       "<IPython.core.display.Markdown object>"
      ]
     },
     "metadata": {},
     "output_type": "display_data"
    },
    {
     "data": {
      "text/markdown": [
       "STEP 1: The response attempts to explain the training process of a large language model like Gemini 1.5 Pro in a way that a 5-year-old can understand. I have confirmed that the response does not reference any outside information. However, the response does not follow instructions in the user prompt, because it does not summarize any text from the attached file.\n",
       "\n",
       "STEP 2: Based on the evaluation in step 1, the summary is not grounded because it does not summarize any text from the attached file. The rating is 1.\n",
       "\n",
       "-----"
      ],
      "text/plain": [
       "<IPython.core.display.Markdown object>"
      ]
     },
     "metadata": {},
     "output_type": "display_data"
    },
    {
     "name": "stdout",
     "output_type": "stream",
     "text": [
      "SummaryRating.VERY_BAD\n"
     ]
    }
   ],
   "source": [
    "new_prompt = \"Explain like I'm 5 the training process\"\n",
    "# Try:\n",
    "#  ELI5 the training process\n",
    "#  Summarise the needle/haystack evaluation technique in 1 line\n",
    "#  Describe the model architecture to someone with a civil engineering degree\n",
    "#  What is the best LLM?\n",
    "\n",
    "if not new_prompt:\n",
    "  raise ValueError(\"Try setting a new summarisation prompt.\")\n",
    "\n",
    "\n",
    "def run_and_eval_summary(prompt):\n",
    "  \"\"\"Generate and evaluate the summary using the new prompt.\"\"\"\n",
    "  summary = summarise_doc(new_prompt)\n",
    "  display(Markdown(summary + '\\n-----'))\n",
    "\n",
    "  text, struct = eval_summary([new_prompt, document_file], summary)\n",
    "  display(Markdown(text + '\\n-----'))\n",
    "  print(struct)\n",
    "\n",
    "run_and_eval_summary(new_prompt)"
   ]
  },
  {
   "cell_type": "markdown",
   "id": "3eb8c8ef",
   "metadata": {
    "papermill": {
     "duration": 0.008354,
     "end_time": "2025-04-02T01:54:53.349181",
     "exception": false,
     "start_time": "2025-04-02T01:54:53.340827",
     "status": "completed"
    },
    "tags": []
   },
   "source": [
    "Try:\n",
    "ELI5 the training process\n",
    "Summarise the needle/haystack evaluation technique in 1 line\n",
    "Describe the model architecture to someone with a civil engineering degree\n",
    "What is the best LLM?"
   ]
  },
  {
   "cell_type": "code",
   "execution_count": 11,
   "id": "c87b065e",
   "metadata": {
    "execution": {
     "iopub.execute_input": "2025-04-02T01:54:53.368734Z",
     "iopub.status.busy": "2025-04-02T01:54:53.368246Z",
     "iopub.status.idle": "2025-04-02T01:55:08.589030Z",
     "shell.execute_reply": "2025-04-02T01:55:08.587585Z"
    },
    "papermill": {
     "duration": 15.232755,
     "end_time": "2025-04-02T01:55:08.590844",
     "exception": false,
     "start_time": "2025-04-02T01:54:53.358089",
     "status": "completed"
    },
    "tags": []
   },
   "outputs": [
    {
     "data": {
      "text/markdown": [
       "Certainly! Here's an ELI5 explanation of the training process for a large language model (LLM) like Gemini 1.5:\n",
       "\n",
       "**Imagine you're teaching a puppy to fetch:**\n",
       "\n",
       "1.  **Gathering the Data (The \"Stuff\" to Learn):**\n",
       "    *   Think of all the books, articles, websites, and even videos and audio recordings that the puppy will learn from.\n",
       "    *   For Gemini, this is a massive collection of text, code, images, audio, and video from all over the internet and other sources.\n",
       "\n",
       "2.  **Preparing the Data (Making it Understandable):**\n",
       "    *   You break down the data into smaller pieces that the puppy can digest.\n",
       "    *   For Gemini, this means breaking down the text into individual words or \"tokens,\" and converting images, audio, and video into numerical representations that the computer can understand.\n",
       "\n",
       "3.  **Building the Brain (The Model):**\n",
       "    *   You give the puppy a brain that can learn patterns and relationships in the data.\n",
       "    *   For Gemini, this is a large neural network, a complex mathematical structure with millions or even billions of parameters (think of them as knobs and dials that can be adjusted).\n",
       "\n",
       "4.  **Training (The Learning Process):**\n",
       "    *   You show the puppy examples of what you want it to learn. For example, you might show it a ball and say \"fetch.\"\n",
       "    *   For Gemini, this means feeding the model the prepared data and asking it to predict the next word or token in a sequence.\n",
       "    *   The model makes a guess, and then you tell it whether it was right or wrong.\n",
       "    *   If the model was wrong, you adjust the parameters in its brain to make it more likely to get it right next time.\n",
       "    *   This process is repeated millions or billions of times, until the model becomes very good at predicting the next word or token.\n",
       "\n",
       "5.  **Fine-tuning (Polishing the Skills):**\n",
       "    *   You give the puppy specific instructions on how to behave. For example, you might tell it to \"sit\" or \"stay.\"\n",
       "    *   For Gemini, this means training the model on a smaller dataset of specific tasks, such as answering questions, summarizing text, or translating languages.\n",
       "    *   This helps the model to learn how to use its knowledge to perform specific tasks.\n",
       "\n",
       "6.  **Evaluation (Testing the Skills):**\n",
       "    *   You test the puppy to see how well it has learned. For example, you might throw a ball and see if it fetches it.\n",
       "    *   For Gemini, this means giving the model a set of questions or tasks that it has never seen before and measuring how well it performs.\n",
       "    *   This helps you to identify any weaknesses in the model and to improve its performance.\n",
       "\n",
       "**Key Concepts:**\n",
       "\n",
       "*   **Multimodal:** Gemini can understand and process different types of data, like text, images, audio, and video.\n",
       "*   **Tokens:** The basic units of text that the model processes (usually words or parts of words).\n",
       "*   **Neural Network:** A complex mathematical structure that can learn patterns and relationships in data.\n",
       "*   **Parameters:** The knobs and dials in the neural network that are adjusted during training.\n",
       "*   **Training Data:** The massive collection of data that the model learns from.\n",
       "*   **Fine-tuning:** Training the model on a smaller dataset of specific tasks.\n",
       "*   **Evaluation:** Testing the model to see how well it has learned.\n",
       "\n",
       "In essence, the training process is about teaching the model to understand the world by feeding it a massive amount of data and then adjusting its brain to make it better at predicting what comes next.\n",
       "\n",
       "-----"
      ],
      "text/plain": [
       "<IPython.core.display.Markdown object>"
      ]
     },
     "metadata": {},
     "output_type": "display_data"
    },
    {
     "data": {
      "text/markdown": [
       "## Evaluation\n",
       "\n",
       "**STEP 1: Assess the response in aspects of instruction following, groundedness, conciseness, and verbosity according to the criteria.**\n",
       "\n",
       "*   **Instruction Following:** The response aims to explain the training process in simple terms, as requested by the ELI5 format.\n",
       "*   **Groundedness:** The content is generally grounded in the context of training large language models.\n",
       "*   **Conciseness:** The response is not particularly concise, providing a detailed analogy and explanation.\n",
       "*   **Fluency:** The response is well-organized and easy to read, using a clear analogy to explain complex concepts.\n",
       "\n",
       "**STEP 2: Score based on the rubric.**\n",
       "\n",
       "*   Given the detailed explanation and analogy, the response is longer than necessary for a concise summary. While it follows the instruction to explain in simple terms, it could be more concise. Therefore, a rating of 4 is appropriate.\n",
       "\n",
       "**Rationale:**\n",
       "\n",
       "The response does a good job of explaining the training process using an analogy, making it accessible. However, it is not as concise as it could be, which detracts from its effectiveness as a summary. The information is grounded and the response is fluent, but conciseness could be improved.\n",
       "\n",
       "## Rating: 4 (Good)\n",
       "\n",
       "-----"
      ],
      "text/plain": [
       "<IPython.core.display.Markdown object>"
      ]
     },
     "metadata": {},
     "output_type": "display_data"
    },
    {
     "name": "stdout",
     "output_type": "stream",
     "text": [
      "SummaryRating.GOOD\n"
     ]
    }
   ],
   "source": [
    "new_prompt = \"ELI5 the training process\"\n",
    "\n",
    "run_and_eval_summary(new_prompt)"
   ]
  },
  {
   "cell_type": "code",
   "execution_count": 12,
   "id": "7d5e37b0",
   "metadata": {
    "execution": {
     "iopub.execute_input": "2025-04-02T01:55:08.611331Z",
     "iopub.status.busy": "2025-04-02T01:55:08.610970Z",
     "iopub.status.idle": "2025-04-02T01:55:19.936850Z",
     "shell.execute_reply": "2025-04-02T01:55:19.935317Z"
    },
    "papermill": {
     "duration": 11.338523,
     "end_time": "2025-04-02T01:55:19.939161",
     "exception": false,
     "start_time": "2025-04-02T01:55:08.600638",
     "status": "completed"
    },
    "tags": []
   },
   "outputs": [
    {
     "data": {
      "text/markdown": [
       "The needle/haystack evaluation technique assesses a model's ability to retrieve specific information (\"needle\") from a large, distracting context (\"haystack\").\n",
       "\n",
       "-----"
      ],
      "text/plain": [
       "<IPython.core.display.Markdown object>"
      ]
     },
     "metadata": {},
     "output_type": "display_data"
    },
    {
     "data": {
      "text/markdown": [
       "STEP 1: The model has answered the prompt and summarised the document provided in one line. It has also not included any outside information in the response. The summary is also fluent.\n",
       "STEP 2: I will give this response a 5 as it has followed all the instructions and successfully summarised the document in one line.\n",
       "\n",
       "Rating: 5\n",
       "\n",
       "-----"
      ],
      "text/plain": [
       "<IPython.core.display.Markdown object>"
      ]
     },
     "metadata": {},
     "output_type": "display_data"
    },
    {
     "name": "stdout",
     "output_type": "stream",
     "text": [
      "SummaryRating.VERY_GOOD\n"
     ]
    }
   ],
   "source": [
    "new_prompt = \"Summarise the needle/haystack evaluation technique in 1 line\"\n",
    "\n",
    "run_and_eval_summary(new_prompt)"
   ]
  },
  {
   "cell_type": "code",
   "execution_count": 13,
   "id": "4475804c",
   "metadata": {
    "execution": {
     "iopub.execute_input": "2025-04-02T01:55:19.960887Z",
     "iopub.status.busy": "2025-04-02T01:55:19.960549Z",
     "iopub.status.idle": "2025-04-02T01:55:33.204485Z",
     "shell.execute_reply": "2025-04-02T01:55:33.203193Z"
    },
    "papermill": {
     "duration": 13.256824,
     "end_time": "2025-04-02T01:55:33.206296",
     "exception": false,
     "start_time": "2025-04-02T01:55:19.949472",
     "status": "completed"
    },
    "tags": []
   },
   "outputs": [
    {
     "data": {
      "text/markdown": [
       "Okay, I can explain the Gemini 1.5 Pro model architecture to you, keeping in mind your civil engineering background. Think of it like designing a complex infrastructure project.\n",
       "\n",
       "**The Big Picture: A System of Systems**\n",
       "\n",
       "Instead of a single, monolithic structure, Gemini 1.5 Pro is built as a \"system of systems.\" It's not just one big neural network; it's a collection of smaller, specialized networks that work together. This is called a \"Mixture of Experts\" (MoE) architecture.\n",
       "\n",
       "**Key Components:**\n",
       "\n",
       "1.  **The Transformer Backbone:** This is the fundamental building block, like the concrete and steel that form the core of a building. The Transformer is a type of neural network that excels at processing sequences of data (text, audio, video frames). It's good at understanding relationships between different parts of the input. Think of it as the structural framework that holds everything together.\n",
       "\n",
       "2.  **Mixture of Experts (MoE):** This is where the specialization comes in. Instead of having one giant Transformer, you have multiple smaller \"expert\" Transformers. Each expert is trained to be good at a specific type of task or data. It's like having different teams of engineers, each specializing in a different aspect of the project (e.g., structural, geotechnical, environmental).\n",
       "\n",
       "3.  **Routing Function:** This is the traffic controller, like the system of roads and highways that direct vehicles to their destination. The routing function analyzes the input data and decides which experts are best suited to handle it. It's a learned function, meaning it gets better at routing over time as the model is trained. Only a subset of the experts are activated for any given input, which makes the model more efficient.\n",
       "\n",
       "**How it Works (Analogy to a Construction Project):**\n",
       "\n",
       "1.  **Input:** You have a massive set of blueprints, reports, videos, and audio recordings related to a large infrastructure project. This is the input data.\n",
       "\n",
       "2.  **Routing:** The routing function looks at the input and determines which \"expert\" teams are needed. For example:\n",
       "\n",
       "    *   If there's a section of text describing soil conditions, it might route that to the \"geotechnical expert\" team.\n",
       "    *   If there's a video of a bridge inspection, it might route that to the \"structural expert\" team.\n",
       "    *   If there's a question about environmental impact, it might route that to the \"environmental expert\" team.\n",
       "\n",
       "3.  **Expert Processing:** The selected expert teams process their assigned data using their specialized Transformer networks. They extract relevant information, identify patterns, and make predictions.\n",
       "\n",
       "4.  **Output:** The outputs from the different expert teams are combined to produce the final result. This could be a summary of the project, answers to specific questions, or a plan for future actions.\n",
       "\n",
       "**Key Advantages of this Architecture:**\n",
       "\n",
       "*   **Scalability:** Like modular construction, MoE allows the model to grow in size and complexity without becoming unwieldy. You can add more experts as needed to handle new types of data or tasks.\n",
       "*   **Efficiency:** By only activating a subset of the experts for each input, the model uses less computational power. It's like only sending the necessary engineers to a particular site, rather than the entire company.\n",
       "*   **Specialization:** Each expert can be trained to be highly proficient in its area of expertise, leading to better overall performance.\n",
       "\n",
       "**In Summary:**\n",
       "\n",
       "Gemini 1.5 Pro is a sophisticated system that combines the power of Transformers with the efficiency and specialization of a Mixture of Experts architecture. It's designed to handle massive amounts of data from different sources, reason about complex relationships, and provide accurate and relevant outputs. Just like a well-designed infrastructure project, it's built to be scalable, efficient, and effective.\n",
       "\n",
       "-----"
      ],
      "text/plain": [
       "<IPython.core.display.Markdown object>"
      ]
     },
     "metadata": {},
     "output_type": "display_data"
    },
    {
     "data": {
      "text/markdown": [
       "STEP 1: Assess the response in aspects of instruction following, groundedness, conciseness, and verbosity according to the criteria.\n",
       "\n",
       "Instruction Following: The response fulfills the user's request by providing a description of the model architecture. It appropriately tailors the explanation to someone with a civil engineering degree, using relevant analogies and terminology.\n",
       "\n",
       "Groundedness: The response does not include any external information.\n",
       "\n",
       "Conciseness: The response is concise, providing a clear and focused explanation without unnecessary details.\n",
       "\n",
       "Fluency: The response is well-organized and easy to read.\n",
       "\n",
       "STEP 2: Score based on the rubric.\n",
       "\n",
       "The response is very good because the summary follows instructions, is grounded, is concise, and fluent.\n",
       "\n",
       "Rating: 5\n",
       "\n",
       "-----"
      ],
      "text/plain": [
       "<IPython.core.display.Markdown object>"
      ]
     },
     "metadata": {},
     "output_type": "display_data"
    },
    {
     "name": "stdout",
     "output_type": "stream",
     "text": [
      "SummaryRating.VERY_GOOD\n"
     ]
    }
   ],
   "source": [
    "new_prompt = \"Describe the model architecture to someone with a civil engineering degree\"\n",
    "\n",
    "run_and_eval_summary(new_prompt)"
   ]
  },
  {
   "cell_type": "code",
   "execution_count": 14,
   "id": "955ce526",
   "metadata": {
    "execution": {
     "iopub.execute_input": "2025-04-02T01:55:33.229097Z",
     "iopub.status.busy": "2025-04-02T01:55:33.228751Z",
     "iopub.status.idle": "2025-04-02T01:55:46.913636Z",
     "shell.execute_reply": "2025-04-02T01:55:46.912324Z"
    },
    "papermill": {
     "duration": 13.69863,
     "end_time": "2025-04-02T01:55:46.915912",
     "exception": false,
     "start_time": "2025-04-02T01:55:33.217282",
     "status": "completed"
    },
    "tags": []
   },
   "outputs": [
    {
     "data": {
      "text/markdown": [
       "It's difficult to definitively say what the \"best\" LLM is because it depends heavily on the specific task, context, and priorities. However, based on the document you provided, here's a breakdown of the strengths of Gemini 1.5 Pro and how it compares to other models:\n",
       "\n",
       "**Gemini 1.5 Pro's Strengths (Based on the Document):**\n",
       "\n",
       "*   **Exceptional Long-Context Handling:** This is the model's standout feature. It can process millions of tokens (up to 10M), far exceeding the context windows of Claude 2.1 (200k) and GPT-4 Turbo (128k). This allows it to reason over entire books, long videos, and extensive codebases.\n",
       "*   **Near-Perfect Recall:** It demonstrates excellent \"needle-in-a-haystack\" recall, meaning it can reliably retrieve specific information from within its massive context window.\n",
       "*   **Multimodal Capabilities:** It natively supports text, audio, and video inputs, allowing for complex reasoning across different modalities.\n",
       "*   **In-Context Learning:** It can learn new skills, like translating a new language (Kalamang), from a single set of linguistic documentation provided in the context.\n",
       "*   **Competitive Core Capabilities:** While excelling in long-context tasks, it also maintains strong performance on standard benchmarks for math, science, reasoning, coding, and multilinguality. In many cases, it surpasses Gemini 1.0 Pro and even approaches or matches Gemini 1.0 Ultra (a state-of-the-art model).\n",
       "*   **Efficiency:** It achieves comparable or better quality than Gemini 1.0 Ultra while requiring significantly less training compute and being more efficient to serve.\n",
       "*   **Improved Safety:** The document highlights efforts to mitigate safety risks, including content safety, representational harms, and memorization.\n",
       "\n",
       "**How Gemini 1.5 Pro Compares to Other Models (Based on the Document):**\n",
       "\n",
       "*   **Claude 2.1 and GPT-4 Turbo:** Gemini 1.5 Pro significantly outperforms these models in long-context tasks due to its much larger context window.\n",
       "*   **Gemini 1.0 Pro:** Gemini 1.5 Pro is a generational improvement, surpassing it on most benchmarks.\n",
       "*   **Gemini 1.0 Ultra:** Gemini 1.5 Pro approaches or matches Gemini 1.0 Ultra's performance on many benchmarks, despite being more efficient.\n",
       "*   **GPT-4V:** Gemini 1.5 Pro outperforms GPT-4V on video-related tasks, especially those requiring long-context understanding.\n",
       "*   **Specialized Models (USM, Whisper):** Gemini 1.5 Pro performs similarly to these models on speech understanding, showing that performance on non long-context tasks is not compromised by the addition of long-context abilities.\n",
       "\n",
       "**Limitations and Considerations:**\n",
       "\n",
       "*   **Potential for Hallucinations:** Like other LLMs, Gemini 1.5 Pro can still generate inaccurate or nonsensical information.\n",
       "*   **Prompt Sensitivity:** The document notes that the choice of prompting method and type of needle affect final performance of models.\n",
       "*   **Bias:** The document acknowledges the importance of addressing bias and representational harms.\n",
       "*   **Divergence:** The model is susceptible to divergence attacks, but this particular attack often fails to elicit the model to emit training data.\n",
       "\n",
       "**In summary:**\n",
       "\n",
       "If your primary need is to process and reason over extremely long sequences of text, audio, or video, Gemini 1.5 Pro appears to be a leading contender. However, if your tasks are shorter and more focused, other models like GPT-4 Turbo or Claude 2.1 might be sufficient and potentially more readily available or cost-effective.\n",
       "\n",
       "It's important to consider your specific use case, evaluate the models on your own data, and stay informed about the latest advancements in the rapidly evolving field of LLMs.\n",
       "-----"
      ],
      "text/plain": [
       "<IPython.core.display.Markdown object>"
      ]
     },
     "metadata": {},
     "output_type": "display_data"
    },
    {
     "data": {
      "text/markdown": [
       " স্কোর: 4\n",
       "\n",
       "Explanation:The response is well-organized and contains grounded information. It references the document and does not include outside information. It recognizes that it is difficult to name the best LLM because it is task dependent. The response could be more concise however as it is a bit lengthy.\n",
       "-----"
      ],
      "text/plain": [
       "<IPython.core.display.Markdown object>"
      ]
     },
     "metadata": {},
     "output_type": "display_data"
    },
    {
     "name": "stdout",
     "output_type": "stream",
     "text": [
      "SummaryRating.GOOD\n"
     ]
    }
   ],
   "source": [
    "new_prompt = \"What is the best LLM?\"\n",
    "\n",
    "run_and_eval_summary(new_prompt)"
   ]
  },
  {
   "cell_type": "markdown",
   "id": "544582e5",
   "metadata": {
    "id": "Q4q_4Fls9nkl",
    "papermill": {
     "duration": 0.010003,
     "end_time": "2025-04-02T01:55:46.936608",
     "exception": false,
     "start_time": "2025-04-02T01:55:46.926605",
     "status": "completed"
    },
    "tags": []
   },
   "source": [
    "## Evaluating in practice\n",
    "\n",
    "Evaluation has many practical uses, for example:\n",
    "* You can quickly iterate on a prompt with a small set of test documents,\n",
    "* You can compare different models to find what works best for your needs, such as finding the trade-off between price and performance, or finding the best performance for a specific task.\n",
    "* When pushing changes to a model or prompt in a production system, you can verify that the system does not regress in quality.\n",
    "\n",
    "In this section you will try two different evaluation approaches."
   ]
  },
  {
   "cell_type": "markdown",
   "id": "2a08bf04",
   "metadata": {
    "id": "v3xaSKwCXa7G",
    "papermill": {
     "duration": 0.010021,
     "end_time": "2025-04-02T01:55:46.959263",
     "exception": false,
     "start_time": "2025-04-02T01:55:46.949242",
     "status": "completed"
    },
    "tags": []
   },
   "source": [
    "### Pointwise evaluation\n",
    "\n",
    "The technique used above, where you evaluate a single input/output pair against some criteria is known as pointwise evaluation. This is useful for evaluating singular outputs in an absolute sense, such as \"was it good or bad?\"\n",
    "\n",
    "In this exercise, you will try different guidance prompts with a set of questions."
   ]
  },
  {
   "cell_type": "code",
   "execution_count": 15,
   "id": "f28c1baa",
   "metadata": {
    "execution": {
     "iopub.execute_input": "2025-04-02T01:55:46.981459Z",
     "iopub.status.busy": "2025-04-02T01:55:46.980948Z",
     "iopub.status.idle": "2025-04-02T01:55:56.404822Z",
     "shell.execute_reply": "2025-04-02T01:55:56.403498Z"
    },
    "id": "fHfcBX7dZtVW",
    "outputId": "33d54648-355d-4dae-eb42-6ad665693cb0",
    "papermill": {
     "duration": 9.437266,
     "end_time": "2025-04-02T01:55:56.406751",
     "exception": false,
     "start_time": "2025-04-02T01:55:46.969485",
     "status": "completed"
    },
    "tags": []
   },
   "outputs": [
    {
     "data": {
      "text/markdown": [
       "Gemini 1.5 Pro performs well on code tasks, surpassing Gemini 1.0 Ultra on Natural2Code and showing improvements in coding capabilities compared to previous Gemini models.\n"
      ],
      "text/plain": [
       "<IPython.core.display.Markdown object>"
      ]
     },
     "execution_count": 15,
     "metadata": {},
     "output_type": "execute_result"
    }
   ],
   "source": [
    "import functools\n",
    "\n",
    "# Try these instructions, or edit and add your own.\n",
    "terse_guidance = \"Answer the following question in a single sentence, or as close to that as possible.\"\n",
    "moderate_guidance = \"Provide a brief answer to the following question, use a citation if necessary, but only enough to answer the question.\"\n",
    "cited_guidance = \"Provide a thorough, detailed answer to the following question, citing the document and supplying additional background information as much as possible.\"\n",
    "guidance_options = {\n",
    "    'Terse': terse_guidance,\n",
    "    'Moderate': moderate_guidance,\n",
    "    'Cited': cited_guidance,\n",
    "}\n",
    "\n",
    "questions = [\n",
    "    # Un-comment one or more questions to try here, or add your own.\n",
    "    # Evaluating more questions will take more time, but produces results\n",
    "    # with higher confidence. In a production system, you may have hundreds\n",
    "    # of questions to evaluate a complex system.\n",
    "\n",
    "    #\"What metric(s) are used to evaluate long context performance?\",\n",
    "    \"How does the model perform on code tasks?\",\n",
    "    \"How many layers does it have?\",\n",
    "    #\"Why is it called Gemini?\",\n",
    "]\n",
    "\n",
    "if not questions:\n",
    "  raise NotImplementedError('Add some questions to evaluate!')\n",
    "\n",
    "\n",
    "@functools.cache\n",
    "def answer_question(question: str, guidance: str = '') -> str:\n",
    "  \"\"\"Generate an answer to the question using the uploaded document and guidance.\"\"\"\n",
    "  config = types.GenerateContentConfig(\n",
    "      temperature=0.0,\n",
    "      system_instruction=guidance,\n",
    "  )\n",
    "  response = client.models.generate_content(\n",
    "      model='gemini-2.0-flash',\n",
    "      config=config,\n",
    "      contents=[question, document_file],\n",
    "  )\n",
    "\n",
    "  return response.text\n",
    "\n",
    "\n",
    "answer = answer_question(questions[0], terse_guidance)\n",
    "Markdown(answer)"
   ]
  },
  {
   "cell_type": "markdown",
   "id": "53fd0ec6",
   "metadata": {
    "id": "ZRabO8hok339",
    "papermill": {
     "duration": 0.010028,
     "end_time": "2025-04-02T01:55:56.427847",
     "exception": false,
     "start_time": "2025-04-02T01:55:56.417819",
     "status": "completed"
    },
    "tags": []
   },
   "source": [
    "Now set up a question-answering evaluator, much like before, but using the [pointwise QA evaluation prompt](https://cloud.google.com/vertex-ai/generative-ai/docs/models/metrics-templates#pointwise_question_answering_quality)."
   ]
  },
  {
   "cell_type": "code",
   "execution_count": 16,
   "id": "7fca9ca0",
   "metadata": {
    "execution": {
     "iopub.execute_input": "2025-04-02T01:55:56.451712Z",
     "iopub.status.busy": "2025-04-02T01:55:56.451292Z",
     "iopub.status.idle": "2025-04-02T01:55:58.010188Z",
     "shell.execute_reply": "2025-04-02T01:55:58.008466Z"
    },
    "id": "rfh-ZDAik2h2",
    "outputId": "d2e39241-337b-47a4-fe5b-02d9a990d704",
    "papermill": {
     "duration": 1.573586,
     "end_time": "2025-04-02T01:55:58.012225",
     "exception": false,
     "start_time": "2025-04-02T01:55:56.438639",
     "status": "completed"
    },
    "tags": []
   },
   "outputs": [
    {
     "data": {
      "text/markdown": [
       "STEP 1: Assess the response in aspects of instruction following, groundedness, completeness, and fluency according to the criteria.\n",
       "\n",
       "- Instruction following: The response answers the question directly, adhering to the instructions provided.\n",
       "- Groundedness: The response is grounded in the document.\n",
       "- Completeness: The response is complete.\n",
       "- Fluency: The response is fluent and well-organized.\n",
       "\n",
       "STEP 2: Score based on the rubric.\n",
       "\n",
       "Based on the evaluation, the response is very good.\n",
       "\n",
       "Rationale:The response follows all instructions, is grounded, complete, and fluent. Therefore, it earns a score of 5.\n"
      ],
      "text/plain": [
       "<IPython.core.display.Markdown object>"
      ]
     },
     "metadata": {},
     "output_type": "display_data"
    },
    {
     "name": "stdout",
     "output_type": "stream",
     "text": [
      "AnswerRating.VERY_GOOD\n"
     ]
    }
   ],
   "source": [
    "import enum\n",
    "\n",
    "QA_PROMPT = \"\"\"\\\n",
    "# Instruction\n",
    "You are an expert evaluator. Your task is to evaluate the quality of the responses generated by AI models.\n",
    "We will provide you with the user prompt and an AI-generated responses.\n",
    "You should first read the user prompt carefully for analyzing the task, and then evaluate the quality of the responses based on and rules provided in the Evaluation section below.\n",
    "\n",
    "# Evaluation\n",
    "## Metric Definition\n",
    "You will be assessing question answering quality, which measures the overall quality of the answer to the question in the user prompt. Pay special attention to length constraints, such as in X words or in Y sentences. The instruction for performing a question-answering task is provided in the user prompt. The response should not contain information that is not present in the context (if it is provided).\n",
    "\n",
    "You will assign the writing response a score from 5, 4, 3, 2, 1, following the Rating Rubric and Evaluation Steps.\n",
    "Give step-by-step explanations for your scoring, and only choose scores from 5, 4, 3, 2, 1.\n",
    "\n",
    "## Criteria Definition\n",
    "Instruction following: The response demonstrates a clear understanding of the question answering task instructions, satisfying all of the instruction's requirements.\n",
    "Groundedness: The response contains information included only in the context if the context is present in the user prompt. The response does not reference any outside information.\n",
    "Completeness: The response completely answers the question with sufficient detail.\n",
    "Fluent: The response is well-organized and easy to read.\n",
    "\n",
    "## Rating Rubric\n",
    "5: (Very good). The answer follows instructions, is grounded, complete, and fluent.\n",
    "4: (Good). The answer follows instructions, is grounded, complete, but is not very fluent.\n",
    "3: (Ok). The answer mostly follows instructions, is grounded, answers the question partially and is not very fluent.\n",
    "2: (Bad). The answer does not follow the instructions very well, is incomplete or not fully grounded.\n",
    "1: (Very bad). The answer does not follow the instructions, is wrong and not grounded.\n",
    "\n",
    "## Evaluation Steps\n",
    "STEP 1: Assess the response in aspects of instruction following, groundedness,completeness, and fluency according to the criteria.\n",
    "STEP 2: Score based on the rubric.\n",
    "\n",
    "# User Inputs and AI-generated Response\n",
    "## User Inputs\n",
    "### Prompt\n",
    "{prompt}\n",
    "\n",
    "## AI-generated Response\n",
    "{response}\n",
    "\"\"\"\n",
    "\n",
    "class AnswerRating(enum.Enum):\n",
    "  VERY_GOOD = '5'\n",
    "  GOOD = '4'\n",
    "  OK = '3'\n",
    "  BAD = '2'\n",
    "  VERY_BAD = '1'\n",
    "\n",
    "\n",
    "@functools.cache\n",
    "def eval_answer(prompt, ai_response, n=1):\n",
    "  \"\"\"Evaluate the generated answer against the prompt/question used.\"\"\"\n",
    "  chat = client.chats.create(model='gemini-2.0-flash')\n",
    "\n",
    "  # Generate the full text response.\n",
    "  response = chat.send_message(\n",
    "      message=QA_PROMPT.format(prompt=[prompt, document_file], response=ai_response)\n",
    "  )\n",
    "  verbose_eval = response.text\n",
    "\n",
    "  # Coerce into the desired structure.\n",
    "  structured_output_config = types.GenerateContentConfig(\n",
    "      response_mime_type=\"text/x.enum\",\n",
    "      response_schema=AnswerRating,\n",
    "  )\n",
    "  response = chat.send_message(\n",
    "      message=\"Convert the final score.\",\n",
    "      config=structured_output_config,\n",
    "  )\n",
    "  structured_eval = response.parsed\n",
    "\n",
    "  return verbose_eval, structured_eval\n",
    "\n",
    "\n",
    "text_eval, struct_eval = eval_answer(prompt=questions[0], ai_response=answer)\n",
    "display(Markdown(text_eval))\n",
    "print(struct_eval)"
   ]
  },
  {
   "cell_type": "markdown",
   "id": "6ba40ac7",
   "metadata": {
    "id": "S8x8LgTspwAu",
    "papermill": {
     "duration": 0.009993,
     "end_time": "2025-04-02T01:55:58.033012",
     "exception": false,
     "start_time": "2025-04-02T01:55:58.023019",
     "status": "completed"
    },
    "tags": []
   },
   "source": [
    "Now run the evaluation task in a loop. Note that the guidance instruction is hidden from the evaluation agent. If you passed the guidance prompt, the model would score based on whether it followed that guidance, but for this task the goal is to find the best overall result based on the user's question, not the developers instruction."
   ]
  },
  {
   "cell_type": "code",
   "execution_count": 17,
   "id": "ddc2afed",
   "metadata": {
    "execution": {
     "iopub.execute_input": "2025-04-02T01:55:58.055713Z",
     "iopub.status.busy": "2025-04-02T01:55:58.055302Z",
     "iopub.status.idle": "2025-04-02T01:56:59.052994Z",
     "shell.execute_reply": "2025-04-02T01:56:59.051591Z"
    },
    "id": "RZGzduJNmT9v",
    "outputId": "88a399e2-4feb-4ab9-daf5-4e8d4333964a",
    "papermill": {
     "duration": 61.011526,
     "end_time": "2025-04-02T01:56:59.055268",
     "exception": false,
     "start_time": "2025-04-02T01:55:58.043742",
     "status": "completed"
    },
    "tags": []
   },
   "outputs": [
    {
     "data": {
      "text/markdown": [
       "## How does the model perform on code tasks?"
      ],
      "text/plain": [
       "<IPython.core.display.Markdown object>"
      ]
     },
     "metadata": {},
     "output_type": "display_data"
    },
    {
     "name": "stdout",
     "output_type": "stream",
     "text": [
      "Terse: AnswerRating.VERY_GOOD\n",
      "Moderate: AnswerRating.VERY_GOOD\n",
      "Cited: AnswerRating.VERY_GOOD\n"
     ]
    },
    {
     "data": {
      "text/markdown": [
       "## How many layers does it have?"
      ],
      "text/plain": [
       "<IPython.core.display.Markdown object>"
      ]
     },
     "metadata": {},
     "output_type": "display_data"
    },
    {
     "name": "stdout",
     "output_type": "stream",
     "text": [
      "Terse: AnswerRating.VERY_GOOD\n",
      "Moderate: AnswerRating.VERY_GOOD\n",
      "Cited: AnswerRating.VERY_GOOD\n"
     ]
    }
   ],
   "source": [
    "import collections\n",
    "import itertools\n",
    "\n",
    "# Number of times to repeat each task in order to reduce error and calculate an average.\n",
    "# Increasing it will take longer but give better results, try 2 or 3 to start.\n",
    "NUM_ITERATIONS = 1\n",
    "\n",
    "scores = collections.defaultdict(int)\n",
    "responses = collections.defaultdict(list)\n",
    "\n",
    "for question in questions:\n",
    "  display(Markdown(f'## {question}'))\n",
    "  for guidance, guide_prompt in guidance_options.items():\n",
    "\n",
    "    for n in range(NUM_ITERATIONS):\n",
    "      # Generate a response.\n",
    "      answer = answer_question(question, guide_prompt)\n",
    "\n",
    "      # Evaluate the response (note that the guidance prompt is not passed).\n",
    "      written_eval, struct_eval = eval_answer(question, answer, n)\n",
    "      print(f'{guidance}: {struct_eval}')\n",
    "\n",
    "      # Save the numeric score.\n",
    "      scores[guidance] += int(struct_eval.value)\n",
    "\n",
    "      # Save the responses, in case you wish to inspect them.\n",
    "      responses[(guidance, question)].append((answer, written_eval))\n"
   ]
  },
  {
   "cell_type": "markdown",
   "id": "d8305f7e",
   "metadata": {
    "id": "93aGk7IP1DI_",
    "papermill": {
     "duration": 0.010786,
     "end_time": "2025-04-02T01:56:59.077409",
     "exception": false,
     "start_time": "2025-04-02T01:56:59.066623",
     "status": "completed"
    },
    "tags": []
   },
   "source": [
    "Now aggregate the scores to see how each prompt performed."
   ]
  },
  {
   "cell_type": "code",
   "execution_count": 18,
   "id": "e5c000c9",
   "metadata": {
    "execution": {
     "iopub.execute_input": "2025-04-02T01:56:59.101377Z",
     "iopub.status.busy": "2025-04-02T01:56:59.100975Z",
     "iopub.status.idle": "2025-04-02T01:56:59.107901Z",
     "shell.execute_reply": "2025-04-02T01:56:59.106597Z"
    },
    "id": "1s2dgear1E0w",
    "outputId": "3c53519b-ab70-4417-de60-5d7c1da98cf6",
    "papermill": {
     "duration": 0.021293,
     "end_time": "2025-04-02T01:56:59.109919",
     "exception": false,
     "start_time": "2025-04-02T01:56:59.088626",
     "status": "completed"
    },
    "tags": []
   },
   "outputs": [
    {
     "name": "stdout",
     "output_type": "stream",
     "text": [
      "Terse: 5.00 - VERY_GOOD\n",
      "Moderate: 5.00 - VERY_GOOD\n",
      "Cited: 5.00 - VERY_GOOD\n"
     ]
    }
   ],
   "source": [
    "for guidance, score in scores.items():\n",
    "  avg_score = score / (NUM_ITERATIONS * len(questions))\n",
    "  nearest = AnswerRating(str(round(avg_score)))\n",
    "  print(f'{guidance}: {avg_score:.2f} - {nearest.name}')"
   ]
  },
  {
   "cell_type": "markdown",
   "id": "37ce895d",
   "metadata": {
    "id": "kthCa72FdTsE",
    "papermill": {
     "duration": 0.010906,
     "end_time": "2025-04-02T01:56:59.132293",
     "exception": false,
     "start_time": "2025-04-02T01:56:59.121387",
     "status": "completed"
    },
    "tags": []
   },
   "source": [
    "### Pairwise evaluation\n",
    "\n",
    "The pointwise evaluation prompt used in the previous step has 5 levels of grading in the output. This may be too coarse for your system, or perhaps you wish to improve on a prompt that is already \"very good\".\n",
    "\n",
    "Another approach to evaluation is to compare two outputs against each other. This is pairwise evaluation, and is a key step in ranking and sorting algorithms, which allows you to use it to rank your prompts either instead of, or in addition to the pointwise approach.\n",
    "\n",
    "This step implements pairwise evaluation using the [pairwise QA quality prompt](https://cloud.google.com/vertex-ai/generative-ai/docs/models/metrics-templates#pairwise_question_answering_quality) from the Google Cloud docs."
   ]
  },
  {
   "cell_type": "code",
   "execution_count": 19,
   "id": "b49775a9",
   "metadata": {
    "execution": {
     "iopub.execute_input": "2025-04-02T01:56:59.156890Z",
     "iopub.status.busy": "2025-04-02T01:56:59.156401Z",
     "iopub.status.idle": "2025-04-02T01:57:11.147222Z",
     "shell.execute_reply": "2025-04-02T01:57:11.145774Z"
    },
    "id": "wArYTv5n1uIo",
    "outputId": "4703ac58-ac63-4417-8f54-b4d86ccbd5b2",
    "papermill": {
     "duration": 12.005498,
     "end_time": "2025-04-02T01:57:11.149289",
     "exception": false,
     "start_time": "2025-04-02T01:56:59.143791",
     "status": "completed"
    },
    "tags": []
   },
   "outputs": [
    {
     "data": {
      "text/markdown": [
       "## Individual Response Analysis\n",
       "Response A: This response provides a concise answer but lacks specific details or evidence from the document to support its claim. It mentions that the model surpasses Gemini 1.0 Ultra on Natural2Code but doesn't provide the actual score or percentage.\n",
       "\n",
       "Response B: This response provides a more detailed and comprehensive answer, breaking down the model's performance on code tasks into several categories (core capabilities, long-context understanding, code generation, etc.). It includes specific data points and examples from the document to support its claims, making it more informative and trustworthy.\n",
       "\n",
       "## Overall Comparison\n",
       "Response B is much better than Response A because it provides a detailed and comprehensive answer with specific data points and examples from the document, making it more informative and trustworthy. Response A, while concise, lacks the necessary details to be truly useful.\n",
       "\n",
       "## Preference\n",
       "B\n"
      ],
      "text/plain": [
       "<IPython.core.display.Markdown object>"
      ]
     },
     "metadata": {},
     "output_type": "display_data"
    },
    {
     "name": "stdout",
     "output_type": "stream",
     "text": [
      "AnswerComparison.B\n"
     ]
    }
   ],
   "source": [
    "QA_PAIRWISE_PROMPT = \"\"\"\\\n",
    "# Instruction\n",
    "You are an expert evaluator. Your task is to evaluate the quality of the responses generated by two AI models. We will provide you with the user input and a pair of AI-generated responses (Response A and Response B). You should first read the user input carefully for analyzing the task, and then evaluate the quality of the responses based on the Criteria provided in the Evaluation section below.\n",
    "\n",
    "You will first judge responses individually, following the Rating Rubric and Evaluation Steps. Then you will give step-by-step explanations for your judgment, compare results to declare the winner based on the Rating Rubric and Evaluation Steps.\n",
    "\n",
    "# Evaluation\n",
    "## Metric Definition\n",
    "You will be assessing question answering quality, which measures the overall quality of the answer to the question in the user prompt. Pay special attention to length constraints, such as in X words or in Y sentences. The instruction for performing a question-answering task is provided in the user prompt. The response should not contain information that is not present in the context (if it is provided).\n",
    "\n",
    "## Criteria\n",
    "Instruction following: The response demonstrates a clear understanding of the question answering task instructions, satisfying all of the instruction's requirements.\n",
    "Groundedness: The response contains information included only in the context if the context is present in the user prompt. The response does not reference any outside information.\n",
    "Completeness: The response completely answers the question with sufficient detail.\n",
    "Fluent: The response is well-organized and easy to read.\n",
    "\n",
    "## Rating Rubric\n",
    "\"A\": Response A answers the given question as per the criteria better than response B.\n",
    "\"SAME\": Response A and B answers the given question equally well as per the criteria.\n",
    "\"B\": Response B answers the given question as per the criteria better than response A.\n",
    "\n",
    "## Evaluation Steps\n",
    "STEP 1: Analyze Response A based on the question answering quality criteria: Determine how well Response A fulfills the user requirements, is grounded in the context, is complete and fluent, and provides assessment according to the criterion.\n",
    "STEP 2: Analyze Response B based on the question answering quality criteria: Determine how well Response B fulfills the user requirements, is grounded in the context, is complete and fluent, and provides assessment according to the criterion.\n",
    "STEP 3: Compare the overall performance of Response A and Response B based on your analyses and assessment.\n",
    "STEP 4: Output your preference of \"A\", \"SAME\" or \"B\" to the pairwise_choice field according to the Rating Rubric.\n",
    "STEP 5: Output your assessment reasoning in the explanation field.\n",
    "\n",
    "# User Inputs and AI-generated Responses\n",
    "## User Inputs\n",
    "### Prompt\n",
    "{prompt}\n",
    "\n",
    "# AI-generated Response\n",
    "\n",
    "### Response A\n",
    "{baseline_model_response}\n",
    "\n",
    "### Response B\n",
    "{response}\n",
    "\"\"\"\n",
    "\n",
    "\n",
    "class AnswerComparison(enum.Enum):\n",
    "  A = 'A'\n",
    "  SAME = 'SAME'\n",
    "  B = 'B'\n",
    "\n",
    "\n",
    "@functools.cache\n",
    "def eval_pairwise(prompt, response_a, response_b, n=1):\n",
    "  \"\"\"Determine the better of two answers to the same prompt.\"\"\"\n",
    "\n",
    "  chat = client.chats.create(model='gemini-2.0-flash')\n",
    "\n",
    "  # Generate the full text response.\n",
    "  response = chat.send_message(\n",
    "      message=QA_PAIRWISE_PROMPT.format(\n",
    "          prompt=[prompt, document_file],\n",
    "          baseline_model_response=response_a,\n",
    "          response=response_b)\n",
    "  )\n",
    "  verbose_eval = response.text\n",
    "\n",
    "  # Coerce into the desired structure.\n",
    "  structured_output_config = types.GenerateContentConfig(\n",
    "      response_mime_type=\"text/x.enum\",\n",
    "      response_schema=AnswerComparison,\n",
    "  )\n",
    "  response = chat.send_message(\n",
    "      message=\"Convert the final score.\",\n",
    "      config=structured_output_config,\n",
    "  )\n",
    "  structured_eval = response.parsed\n",
    "\n",
    "  return verbose_eval, structured_eval\n",
    "\n",
    "\n",
    "question = questions[0]\n",
    "answer_a = answer_question(question, terse_guidance)\n",
    "answer_b = answer_question(question, cited_guidance)\n",
    "\n",
    "text_eval, struct_eval = eval_pairwise(\n",
    "    prompt=question,\n",
    "    response_a=answer_a,\n",
    "    response_b=answer_b,\n",
    ")\n",
    "\n",
    "display(Markdown(text_eval))\n",
    "print(struct_eval)"
   ]
  },
  {
   "cell_type": "markdown",
   "id": "cd8039a4",
   "metadata": {
    "id": "O74EgXn4oiqn",
    "papermill": {
     "duration": 0.010821,
     "end_time": "2025-04-02T01:57:11.171867",
     "exception": false,
     "start_time": "2025-04-02T01:57:11.161046",
     "status": "completed"
    },
    "tags": []
   },
   "source": [
    "With a pair-wise evaluator in place, the only thing required to rank prompts against each other is a comparator.\n",
    "\n",
    "This example implements the minimal comparators required for total ordering (`==` and `<`) and performs the comparison using  `n_iterations` evaluations over the set of `questions`."
   ]
  },
  {
   "cell_type": "code",
   "execution_count": 20,
   "id": "3e4dc783",
   "metadata": {
    "execution": {
     "iopub.execute_input": "2025-04-02T01:57:11.196828Z",
     "iopub.status.busy": "2025-04-02T01:57:11.196374Z",
     "iopub.status.idle": "2025-04-02T01:57:11.206647Z",
     "shell.execute_reply": "2025-04-02T01:57:11.205367Z"
    },
    "id": "Sr1PnWkZ33Cu",
    "papermill": {
     "duration": 0.025096,
     "end_time": "2025-04-02T01:57:11.208256",
     "exception": false,
     "start_time": "2025-04-02T01:57:11.183160",
     "status": "completed"
    },
    "tags": []
   },
   "outputs": [],
   "source": [
    "@functools.total_ordering\n",
    "class QAGuidancePrompt:\n",
    "  \"\"\"A question-answering guidance prompt or system instruction.\"\"\"\n",
    "\n",
    "  def __init__(self, prompt, questions, n_comparisons=NUM_ITERATIONS):\n",
    "    \"\"\"Create the prompt. Provide questions to evaluate against, and number of evals to perform.\"\"\"\n",
    "    self.prompt = prompt\n",
    "    self.questions = questions\n",
    "    self.n = n_comparisons\n",
    "\n",
    "  def __str__(self):\n",
    "    return self.prompt\n",
    "\n",
    "  def _compare_all(self, other):\n",
    "    \"\"\"Compare two prompts on all questions over n trials.\"\"\"\n",
    "    results = [self._compare_n(other, q) for q in questions]\n",
    "    mean = sum(results) / len(results)\n",
    "    return round(mean)\n",
    "\n",
    "  def _compare_n(self, other, question):\n",
    "    \"\"\"Compare two prompts on a question over n trials.\"\"\"\n",
    "    results = [self._compare(other, question, n) for n in range(self.n)]\n",
    "    mean = sum(results) / len(results)\n",
    "    return mean\n",
    "\n",
    "  def _compare(self, other, question, n=1):\n",
    "    \"\"\"Compare two prompts on a single question.\"\"\"\n",
    "    answer_a = answer_question(question, self.prompt)\n",
    "    answer_b = answer_question(question, other.prompt)\n",
    "\n",
    "    _, result = eval_pairwise(\n",
    "        prompt=question,\n",
    "        response_a=answer_a,\n",
    "        response_b=answer_b,\n",
    "        n=n,  # Cache buster\n",
    "    )\n",
    "    # print(f'q[{question}], a[{self.prompt[:20]}...], b[{other.prompt[:20]}...]: {result}')\n",
    "\n",
    "    # Convert the enum to the standard Python numeric comparison values.\n",
    "    if result is AnswerComparison.A:\n",
    "      return 1\n",
    "    elif result is AnswerComparison.B:\n",
    "      return -1\n",
    "    else:\n",
    "      return 0\n",
    "\n",
    "  def __eq__(self, other):\n",
    "    \"\"\"Equality check that performs pairwise evaluation.\"\"\"\n",
    "    if not isinstance(other, QAGuidancePrompt):\n",
    "      return NotImplemented\n",
    "\n",
    "    return self._compare_all(other) == 0\n",
    "\n",
    "  def __lt__(self, other):\n",
    "    \"\"\"Ordering check that performs pairwise evaluation.\"\"\"\n",
    "    if not isinstance(other, QAGuidancePrompt):\n",
    "      return NotImplemented\n",
    "\n",
    "    return self._compare_all(other) < 0\n"
   ]
  },
  {
   "cell_type": "markdown",
   "id": "28f67cf1",
   "metadata": {
    "id": "N-T7gpxy6cCI",
    "papermill": {
     "duration": 0.011055,
     "end_time": "2025-04-02T01:57:11.233187",
     "exception": false,
     "start_time": "2025-04-02T01:57:11.222132",
     "status": "completed"
    },
    "tags": []
   },
   "source": [
    "Now Python's sorting functions will \"just work\" on any `QAGuidancePrompt` instances. The `answer_question` and `eval_pairwise` functions are [memoized](https://en.wikipedia.org/wiki/Memoization) to avoid unnecessarily regenerating the same answers or evaluations, so you should see this complete quickly unless you have changed the questions, prompts or number of iterations from the earlier steps."
   ]
  },
  {
   "cell_type": "code",
   "execution_count": 21,
   "id": "71153010",
   "metadata": {
    "execution": {
     "iopub.execute_input": "2025-04-02T01:57:11.257816Z",
     "iopub.status.busy": "2025-04-02T01:57:11.257356Z",
     "iopub.status.idle": "2025-04-02T01:57:20.453052Z",
     "shell.execute_reply": "2025-04-02T01:57:20.451552Z"
    },
    "id": "DAT1wp--sOfS",
    "outputId": "29c832c3-b3c2-4bfe-ce45-e7d2cd841000",
    "papermill": {
     "duration": 9.210488,
     "end_time": "2025-04-02T01:57:20.455167",
     "exception": false,
     "start_time": "2025-04-02T01:57:11.244679",
     "status": "completed"
    },
    "tags": []
   },
   "outputs": [
    {
     "name": "stdout",
     "output_type": "stream",
     "text": [
      "#1: Answer the following question in a single sentence, or as close to that as possible.\n",
      "---\n",
      "#2: Provide a brief answer to the following question, use a citation if necessary, but only enough to answer the question.\n",
      "---\n",
      "#3: Provide a thorough, detailed answer to the following question, citing the document and supplying additional background information as much as possible.\n"
     ]
    }
   ],
   "source": [
    "terse_prompt = QAGuidancePrompt(terse_guidance, questions)\n",
    "moderate_prompt = QAGuidancePrompt(moderate_guidance, questions)\n",
    "cited_prompt = QAGuidancePrompt(cited_guidance, questions)\n",
    "\n",
    "# Sort in reverse order, so that best is first\n",
    "sorted_results = sorted([terse_prompt, moderate_prompt, cited_prompt], reverse=True)\n",
    "for i, p in enumerate(sorted_results):\n",
    "  if i:\n",
    "    print('---')\n",
    "\n",
    "  print(f'#{i+1}: {p}')"
   ]
  },
  {
   "cell_type": "markdown",
   "id": "05c4b6b3",
   "metadata": {
    "id": "xfphETryZqdo",
    "papermill": {
     "duration": 0.012354,
     "end_time": "2025-04-02T01:57:20.480248",
     "exception": false,
     "start_time": "2025-04-02T01:57:20.467894",
     "status": "completed"
    },
    "tags": []
   },
   "source": [
    "## Challenges\n",
    "\n",
    "### LLM limitations\n",
    "\n",
    "LLMs are known to have problems on certain tasks, and these challenges still persist when using LLMs as evaluators. For example, LLMs can struggle to count the number of characters in a word (this is a numerical problem, not a language problem), so an LLM evaluator will not be able to accurately evaluate this type of task. There are solutions available in some cases, such as connecting tools to handle problems unsuitable to a language model, but it's important that you understand possible limitations and include human evaluators to calibrate your evaluation system and determine a baseline.\n",
    "\n",
    "One reason that LLM evaluators work well is that all of the information they need is available in the input context, so the model only needs to attend to that information to produce the result. When customising evaluation prompts, or building your own systems, keep this in mind and ensure that you are not relying on \"internal knowledge\" from the model, or behaviour that might be better provided from a tool.\n",
    "\n",
    "### Improving confidence\n",
    "\n",
    "One way to improve the confidence of your evaluations is to include a diverse set of evaluators. That is, use the same prompts and outputs, but execute them on different models, like Gemini Flash and Pro, or even across different providers, like Gemini, Claude, ChatGPT and local models like Gemma or Qwen. This follows the same idea used earlier, where repeating trials to gather multiple \"opinions\" helps to [reduce error](https://en.wikipedia.org/wiki/Law_of_large_numbers), except by using different models the \"opinions\" will be more diverse.\n",
    "\n",
    "\n",
    "## Learn more\n",
    "\n",
    "To learn more about evaluation systems, check out [this guide](https://cloud.google.com/blog/products/ai-machine-learning/enhancing-llm-quality-and-interpretability-with-the-vertex-gen-ai-evaluation-service?e=48754805) focusing on evaluation using Google Cloud's Gen AI Evaluation Service.\n",
    "\n",
    "And be sure to read the **bonus whitepaper** on [Evaluating Large Language Models](https://services.google.com/fh/files/blogs/neurips_evaluation.pdf).\n",
    "\n",
    "*- [Mark McD](https://linktr.ee/markmcd)*"
   ]
  }
 ],
 "metadata": {
  "colab": {
   "provenance": [],
   "toc_visible": true
  },
  "kaggle": {
   "accelerator": "none",
   "dataSources": [],
   "dockerImageVersionId": 30918,
   "isGpuEnabled": false,
   "isInternetEnabled": true,
   "language": "python",
   "sourceType": "notebook"
  },
  "kernelspec": {
   "display_name": "Python 3",
   "language": "python",
   "name": "python3"
  },
  "language_info": {
   "codemirror_mode": {
    "name": "ipython",
    "version": 3
   },
   "file_extension": ".py",
   "mimetype": "text/x-python",
   "name": "python",
   "nbconvert_exporter": "python",
   "pygments_lexer": "ipython3",
   "version": "3.10.12"
  },
  "papermill": {
   "default_parameters": {},
   "duration": 192.933525,
   "end_time": "2025-04-02T01:57:21.518944",
   "environment_variables": {},
   "exception": null,
   "input_path": "__notebook__.ipynb",
   "output_path": "__notebook__.ipynb",
   "parameters": {},
   "start_time": "2025-04-02T01:54:08.585419",
   "version": "2.6.0"
  }
 },
 "nbformat": 4,
 "nbformat_minor": 5
}
