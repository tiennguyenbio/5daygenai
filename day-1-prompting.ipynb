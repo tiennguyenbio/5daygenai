{
 "cells": [
  {
   "cell_type": "markdown",
   "id": "5b8acfd2",
   "metadata": {
    "id": "jkxRSYjzA1oX",
    "papermill": {
     "duration": 0.014834,
     "end_time": "2025-04-01T22:39:59.315563",
     "exception": false,
     "start_time": "2025-04-01T22:39:59.300729",
     "status": "completed"
    },
    "tags": []
   },
   "source": [
    "##### Copyright 2025 Google LLC."
   ]
  },
  {
   "cell_type": "code",
   "execution_count": 1,
   "id": "30f70836",
   "metadata": {
    "cellView": "form",
    "execution": {
     "iopub.execute_input": "2025-04-01T22:39:59.342574Z",
     "iopub.status.busy": "2025-04-01T22:39:59.342164Z",
     "iopub.status.idle": "2025-04-01T22:39:59.347413Z",
     "shell.execute_reply": "2025-04-01T22:39:59.346538Z"
    },
    "id": "5u5OZ2ShA3BA",
    "jupyter": {
     "source_hidden": true
    },
    "papermill": {
     "duration": 0.021502,
     "end_time": "2025-04-01T22:39:59.349223",
     "exception": false,
     "start_time": "2025-04-01T22:39:59.327721",
     "status": "completed"
    },
    "tags": []
   },
   "outputs": [],
   "source": [
    "# @title Licensed under the Apache License, Version 2.0 (the \"License\");\n",
    "# you may not use this file except in compliance with the License.\n",
    "# You may obtain a copy of the License at\n",
    "#\n",
    "# https://www.apache.org/licenses/LICENSE-2.0\n",
    "#\n",
    "# Unless required by applicable law or agreed to in writing, software\n",
    "# distributed under the License is distributed on an \"AS IS\" BASIS,\n",
    "# WITHOUT WARRANTIES OR CONDITIONS OF ANY KIND, either express or implied.\n",
    "# See the License for the specific language governing permissions and\n",
    "# limitations under the License."
   ]
  },
  {
   "cell_type": "markdown",
   "id": "4fcff67b",
   "metadata": {
    "id": "csNPnkuCobmG",
    "papermill": {
     "duration": 0.012036,
     "end_time": "2025-04-01T22:39:59.373822",
     "exception": false,
     "start_time": "2025-04-01T22:39:59.361786",
     "status": "completed"
    },
    "tags": []
   },
   "source": [
    "# Day 1 - Prompting\n",
    "\n",
    "Welcome to the Kaggle 5-day Generative AI course!\n",
    "\n",
    "This notebook will show you how to get started with the Gemini API and walk you through some of the example prompts and techniques that you can also read about in the Prompting whitepaper. You don't need to read the whitepaper to use this notebook, but the papers will give you some theoretical context and background to complement this interactive notebook.\n",
    "\n",
    "\n",
    "## Before you begin\n",
    "\n",
    "In this notebook, you'll start exploring prompting using the Python SDK and AI Studio. For some inspiration, you might enjoy exploring some apps that have been built using the Gemini family of models. Here are a few that we like, and we think you will too.\n",
    "\n",
    "* [TextFX](https://textfx.withgoogle.com/) is a suite of AI-powered tools for rappers, made in collaboration with Lupe Fiasco,\n",
    "* [SQL Talk](https://sql-talk-r5gdynozbq-uc.a.run.app/) shows how you can talk directly to a database using the Gemini API,\n",
    "* [NotebookLM](https://notebooklm.google/) uses Gemini models to build your own personal AI research assistant.\n",
    "\n",
    "\n",
    "## For help\n",
    "\n",
    "**Common issues are covered in the [FAQ and troubleshooting guide](https://www.kaggle.com/code/markishere/day-0-troubleshooting-and-faqs).**\n",
    "\n",
    "## New for Gemini 2.0!\n",
    "\n",
    "This course material was first launched in November 2024. The AI and LLM space is moving incredibly fast, so we have made some updates to use the latest models and capabilities.\n",
    "\n",
    "* These codelabs have been updated to use the Gemini 2.0 family of models.\n",
    "* The Python SDK has been updated from `google-generativeai` to the new, unified [`google-genai`](https://pypi.org/project/google-genai) SDK.\n",
    "  * This new SDK works with both the developer Gemini API as well as Google Cloud Vertex AI, and switching is [as simple as changing some fields](https://pypi.org/project/google-genai/#:~:text=.Client%28%29-,API%20Selection,-By%20default%2C%20the).\n",
    "* New model capabilities have been added to the relevant codelabs, such as \"thinking mode\" in this lab.\n",
    "* Day 1 includes a new [Evaluation codelab](https://www.kaggle.com/code/markishere/day-1-evaluation-and-structured-output)."
   ]
  },
  {
   "attachments": {
    "d8299597-f771-4195-ac94-1d6f658ef2bd.png": {
     "image/png": "[encoded data removed]"
    },
    "ed25e346-2e15-4ab0-bc22-503eb1845e66.png": {
     "image/png": "[encoded data removed]"
    }
   },
   "cell_type": "markdown",
   "id": "9fe7bd5f",
   "metadata": {
    "id": "f00ea7c99e44",
    "papermill": {
     "duration": 0.012183,
     "end_time": "2025-04-01T22:39:59.398481",
     "exception": false,
     "start_time": "2025-04-01T22:39:59.386298",
     "status": "completed"
    },
    "tags": []
   },
   "source": [
    "## Get started with Kaggle notebooks\n",
    "\n",
    "If this is your first time using a Kaggle notebook, welcome! You can read about how to use Kaggle notebooks [in the docs](https://www.kaggle.com/docs/notebooks).\n",
    "\n",
    "First, you will need to phone verify your account at kaggle.com/settings.\n",
    "\n",
    "![](https://storage.googleapis.com/kaggle-media/Images/5dgai_0.png)"
   ]
  },
  {
   "cell_type": "markdown",
   "id": "cda970f5",
   "metadata": {
    "papermill": {
     "duration": 0.012182,
     "end_time": "2025-04-01T22:39:59.423115",
     "exception": false,
     "start_time": "2025-04-01T22:39:59.410933",
     "status": "completed"
    },
    "tags": []
   },
   "source": [
    "To run this notebook, as well as the others in this course, you will need to make a copy, or fork, the notebook. Look for the `Copy and Edit` button in the top-right, and **click it** to make an editable, private copy of the notebook. It should look like this one:\n",
    "\n",
    "![Copy and Edit button](https://storage.googleapis.com/kaggle-media/Images/5gdai_sc_1.png)\n",
    "\n",
    "Your copy will now have a ▶️ **Run** button next to each code cell that you can press to execute that cell. These notebooks are expected to be run in order from top-to-bottom, but you are encouraged to add new cells, run your own code and explore. If you get stuck, you can try the `Factory reset` option in the `Run` menu, or head back to the original notebook and make a fresh copy.\n",
    "\n",
    "![Run cell button](https://storage.googleapis.com/kaggle-media/Images/5gdai_sc_2.png)\n",
    "\n",
    "### Problems?\n",
    "\n",
    "If you have any problems, head over to the [Kaggle Discord](https://discord.com/invite/kaggle), find the [`#5dgai-q-and-a` channel](https://discord.com/channels/1101210829807956100/1303438695143178251) and ask for help."
   ]
  },
  {
   "cell_type": "markdown",
   "id": "73ee1228",
   "metadata": {
    "id": "ExkOXcPxtTb5",
    "papermill": {
     "duration": 0.013105,
     "end_time": "2025-04-01T22:39:59.448634",
     "exception": false,
     "start_time": "2025-04-01T22:39:59.435529",
     "status": "completed"
    },
    "tags": []
   },
   "source": [
    "## Get started with the Gemini API\n",
    "\n",
    "All of the exercises in this notebook will use the [Gemini API](https://ai.google.dev/gemini-api/) by way of the [Python SDK](https://pypi.org/project/google-genai/). Each of these prompts can be accessed directly in [Google AI Studio](https://aistudio.google.com/) too, so if you would rather use a web interface and skip the code for this activity, look for the <img src=\"https://ai.google.dev/site-assets/images/marketing/home/icon-ais.png\" style=\"height: 24px\" height=24/> AI Studio link on each prompt."
   ]
  },
  {
   "cell_type": "markdown",
   "id": "c0b87e8d",
   "metadata": {
    "papermill": {
     "duration": 0.011919,
     "end_time": "2025-04-01T22:39:59.473239",
     "exception": false,
     "start_time": "2025-04-01T22:39:59.461320",
     "status": "completed"
    },
    "tags": []
   },
   "source": [
    "Next, you will need to add your API key to your Kaggle Notebook as a Kaggle User Secret.\n",
    "\n",
    "![](https://storage.googleapis.com/kaggle-media/Images/5dgai_1.png)\n",
    "![](https://storage.googleapis.com/kaggle-media/Images/5dgai_2.png)\n",
    "![](https://storage.googleapis.com/kaggle-media/Images/5dgai_3.png)\n",
    "![](https://storage.googleapis.com/kaggle-media/Images/5dgai_4.png)"
   ]
  },
  {
   "cell_type": "markdown",
   "id": "a8ef92c9",
   "metadata": {
    "id": "UAjUV3BsvFXQ",
    "papermill": {
     "duration": 0.011784,
     "end_time": "2025-04-01T22:39:59.497162",
     "exception": false,
     "start_time": "2025-04-01T22:39:59.485378",
     "status": "completed"
    },
    "tags": []
   },
   "source": [
    "### Install the SDK"
   ]
  },
  {
   "cell_type": "code",
   "execution_count": 2,
   "id": "be92ce51",
   "metadata": {
    "execution": {
     "iopub.execute_input": "2025-04-01T22:39:59.522879Z",
     "iopub.status.busy": "2025-04-01T22:39:59.522524Z",
     "iopub.status.idle": "2025-04-01T22:40:18.244314Z",
     "shell.execute_reply": "2025-04-01T22:40:18.243129Z"
    },
    "id": "NzwzJFU9LqkJ",
    "papermill": {
     "duration": 18.737503,
     "end_time": "2025-04-01T22:40:18.246830",
     "exception": false,
     "start_time": "2025-04-01T22:39:59.509327",
     "status": "completed"
    },
    "tags": []
   },
   "outputs": [],
   "source": [
    "!pip uninstall -qy jupyterlab  # Remove unused packages from Kaggle's base image that conflict\n",
    "!pip install -U -q \"google-genai==1.7.0\""
   ]
  },
  {
   "cell_type": "markdown",
   "id": "b29f6164",
   "metadata": {
    "papermill": {
     "duration": 0.012185,
     "end_time": "2025-04-01T22:40:18.271395",
     "exception": false,
     "start_time": "2025-04-01T22:40:18.259210",
     "status": "completed"
    },
    "tags": []
   },
   "source": [
    "Import the SDK and some helpers for rendering the output."
   ]
  },
  {
   "cell_type": "code",
   "execution_count": 3,
   "id": "2fba438b",
   "metadata": {
    "execution": {
     "iopub.execute_input": "2025-04-01T22:40:18.297878Z",
     "iopub.status.busy": "2025-04-01T22:40:18.297471Z",
     "iopub.status.idle": "2025-04-01T22:40:19.565595Z",
     "shell.execute_reply": "2025-04-01T22:40:19.564652Z"
    },
    "id": "5DwxYIRavMST",
    "papermill": {
     "duration": 1.28441,
     "end_time": "2025-04-01T22:40:19.567964",
     "exception": false,
     "start_time": "2025-04-01T22:40:18.283554",
     "status": "completed"
    },
    "tags": []
   },
   "outputs": [],
   "source": [
    "from google import genai\n",
    "from google.genai import types\n",
    "\n",
    "from IPython.display import HTML, Markdown, display"
   ]
  },
  {
   "cell_type": "markdown",
   "id": "8183d7f2",
   "metadata": {
    "papermill": {
     "duration": 0.011874,
     "end_time": "2025-04-01T22:40:19.592093",
     "exception": false,
     "start_time": "2025-04-01T22:40:19.580219",
     "status": "completed"
    },
    "tags": []
   },
   "source": [
    "Set up a retry helper. This allows you to \"Run all\" without worrying about per-minute quota."
   ]
  },
  {
   "cell_type": "code",
   "execution_count": 4,
   "id": "f04f0af5",
   "metadata": {
    "execution": {
     "iopub.execute_input": "2025-04-01T22:40:19.618299Z",
     "iopub.status.busy": "2025-04-01T22:40:19.617762Z",
     "iopub.status.idle": "2025-04-01T22:40:19.810092Z",
     "shell.execute_reply": "2025-04-01T22:40:19.809017Z"
    },
    "papermill": {
     "duration": 0.208156,
     "end_time": "2025-04-01T22:40:19.812534",
     "exception": false,
     "start_time": "2025-04-01T22:40:19.604378",
     "status": "completed"
    },
    "tags": []
   },
   "outputs": [],
   "source": [
    "from google.api_core import retry\n",
    "\n",
    "\n",
    "is_retriable = lambda e: (isinstance(e, genai.errors.APIError) and e.code in {429, 503})\n",
    "\n",
    "genai.models.Models.generate_content = retry.Retry(\n",
    "    predicate=is_retriable)(genai.models.Models.generate_content)"
   ]
  },
  {
   "cell_type": "markdown",
   "id": "045909de",
   "metadata": {
    "id": "DNEt2BCOvOJ1",
    "papermill": {
     "duration": 0.011931,
     "end_time": "2025-04-01T22:40:19.836876",
     "exception": false,
     "start_time": "2025-04-01T22:40:19.824945",
     "status": "completed"
    },
    "tags": []
   },
   "source": [
    "### Set up your API key\n",
    "\n",
    "To run the following cell, your API key must be stored it in a [Kaggle secret](https://www.kaggle.com/discussions/product-feedback/114053) named `GOOGLE_API_KEY`.\n",
    "\n",
    "If you don't already have an API key, you can grab one from [AI Studio](https://aistudio.google.com/app/apikey). You can find [detailed instructions in the docs](https://ai.google.dev/gemini-api/docs/api-key).\n",
    "\n",
    "To make the key available through Kaggle secrets, choose `Secrets` from the `Add-ons` menu and follow the instructions to add your key or enable it for this notebook."
   ]
  },
  {
   "cell_type": "code",
   "execution_count": 5,
   "id": "ba89ff3e",
   "metadata": {
    "execution": {
     "iopub.execute_input": "2025-04-01T22:40:19.863044Z",
     "iopub.status.busy": "2025-04-01T22:40:19.862527Z",
     "iopub.status.idle": "2025-04-01T22:40:20.063374Z",
     "shell.execute_reply": "2025-04-01T22:40:20.062315Z"
    },
    "id": "SHl0bkPCvayd",
    "papermill": {
     "duration": 0.216766,
     "end_time": "2025-04-01T22:40:20.065855",
     "exception": false,
     "start_time": "2025-04-01T22:40:19.849089",
     "status": "completed"
    },
    "tags": []
   },
   "outputs": [],
   "source": [
    "from kaggle_secrets import UserSecretsClient\n",
    "\n",
    "GOOGLE_API_KEY = UserSecretsClient().get_secret(\"GOOGLE_API_KEY\")"
   ]
  },
  {
   "attachments": {
    "d2be9aab-2527-48af-b6cf-1f06cdd7c3a7.png": {
     "image/png": "[encoded data removed]"
    }
   },
   "cell_type": "markdown",
   "id": "ad93255a",
   "metadata": {
    "id": "4e720472fd86",
    "papermill": {
     "duration": 0.012001,
     "end_time": "2025-04-01T22:40:20.090062",
     "exception": false,
     "start_time": "2025-04-01T22:40:20.078061",
     "status": "completed"
    },
    "tags": []
   },
   "source": [
    "If you received an error response along the lines of `No user secrets exist for kernel id ...`, then you need to add your API key via `Add-ons`, `Secrets` **and** enable it.\n",
    "\n",
    "![Screenshot of the checkbox to enable GOOGLE_API_KEY secret](https://storage.googleapis.com/kaggle-media/Images/5gdai_sc_3.png)"
   ]
  },
  {
   "cell_type": "markdown",
   "id": "ae9f46b6",
   "metadata": {
    "id": "H_YXCYIKvyZJ",
    "papermill": {
     "duration": 0.011703,
     "end_time": "2025-04-01T22:40:20.114122",
     "exception": false,
     "start_time": "2025-04-01T22:40:20.102419",
     "status": "completed"
    },
    "tags": []
   },
   "source": [
    "### Run your first prompt\n",
    "\n",
    "In this step, you will test that your API key is set up correctly by making a request.\n",
    "\n",
    "The Python SDK uses a [`Client` object](https://googleapis.github.io/python-genai/genai.html#genai.client.Client) to make requests to the API. The client lets you control which back-end to use (between the Gemini API and Vertex AI) and handles authentication (the API key).\n",
    "\n",
    "The `gemini-2.0-flash` model has been selected here.\n",
    "\n",
    "**Note**: If you see a `TransportError` on this step, you may need to **🔁 Factory reset** the notebook one time."
   ]
  },
  {
   "cell_type": "code",
   "execution_count": 6,
   "id": "0e4639aa",
   "metadata": {
    "execution": {
     "iopub.execute_input": "2025-04-01T22:40:20.139781Z",
     "iopub.status.busy": "2025-04-01T22:40:20.139424Z",
     "iopub.status.idle": "2025-04-01T22:40:22.924132Z",
     "shell.execute_reply": "2025-04-01T22:40:22.923098Z"
    },
    "id": "BV1o0PmcvyJF",
    "papermill": {
     "duration": 2.800518,
     "end_time": "2025-04-01T22:40:22.926765",
     "exception": false,
     "start_time": "2025-04-01T22:40:20.126247",
     "status": "completed"
    },
    "tags": []
   },
   "outputs": [
    {
     "name": "stdout",
     "output_type": "stream",
     "text": [
      "Imagine you have a really, REALLY smart robot dog. This robot dog can learn new tricks, not just the ones you teach it by pressing buttons on a remote. That's AI!\n",
      "\n",
      "AI is like giving a computer the ability to **learn and think** a little bit like a person.  Instead of just following instructions step-by-step, it can figure things out on its own.\n",
      "\n",
      "Here's how it works:\n",
      "\n",
      "*   **Lots of information:** We feed the computer tons and tons of examples. Like, if we want it to recognize a cat, we show it millions of pictures of cats!\n",
      "*   **Spotting patterns:** The computer looks for patterns in all those examples. It figures out things like \"cats usually have pointy ears, whiskers, and a tail.\"\n",
      "*   **Making guesses:**  When you show it a new picture, it uses what it learned to guess if it's a cat or not.\n",
      "*   **Learning from mistakes:** If it guesses wrong, we tell it, and it tries to do better next time! It learns from its mistakes.\n",
      "\n",
      "So, like a super smart student, an AI computer program learns how to do things by looking at lots of examples, finding patterns, and improving over time. It can then do things like:\n",
      "\n",
      "*   **Understand what you say:** Like when you talk to Siri or Alexa.\n",
      "*   **Help you find things online:** Like when Google shows you the best websites when you search for something.\n",
      "*   **Play games:** Some computer games are so good because the computer is using AI to make the game harder and more fun.\n",
      "*   **Drive cars:**  Someday, cars might drive themselves using AI!\n",
      "\n",
      "AI is like giving computers a brain (a really, REALLY simple one, but still!). It's still a new technology, and scientists are still working hard to make it even smarter!\n",
      "\n"
     ]
    }
   ],
   "source": [
    "client = genai.Client(api_key=GOOGLE_API_KEY)\n",
    "\n",
    "response = client.models.generate_content(\n",
    "    model=\"gemini-2.0-flash\",\n",
    "    contents=\"Explain AI to me like I'm a kid.\")\n",
    "\n",
    "print(response.text)"
   ]
  },
  {
   "cell_type": "markdown",
   "id": "894c3157",
   "metadata": {
    "id": "f60ed9d8ae41",
    "papermill": {
     "duration": 0.013822,
     "end_time": "2025-04-01T22:40:22.954383",
     "exception": false,
     "start_time": "2025-04-01T22:40:22.940561",
     "status": "completed"
    },
    "tags": []
   },
   "source": [
    "The response often comes back in markdown format, which you can render directly in this notebook."
   ]
  },
  {
   "cell_type": "code",
   "execution_count": 7,
   "id": "6e5df363",
   "metadata": {
    "execution": {
     "iopub.execute_input": "2025-04-01T22:40:22.981423Z",
     "iopub.status.busy": "2025-04-01T22:40:22.980386Z",
     "iopub.status.idle": "2025-04-01T22:40:22.988383Z",
     "shell.execute_reply": "2025-04-01T22:40:22.987204Z"
    },
    "id": "c933e5e460a5",
    "papermill": {
     "duration": 0.023488,
     "end_time": "2025-04-01T22:40:22.990228",
     "exception": false,
     "start_time": "2025-04-01T22:40:22.966740",
     "status": "completed"
    },
    "tags": []
   },
   "outputs": [
    {
     "data": {
      "text/markdown": [
       "Imagine you have a really, REALLY smart robot dog. This robot dog can learn new tricks, not just the ones you teach it by pressing buttons on a remote. That's AI!\n",
       "\n",
       "AI is like giving a computer the ability to **learn and think** a little bit like a person.  Instead of just following instructions step-by-step, it can figure things out on its own.\n",
       "\n",
       "Here's how it works:\n",
       "\n",
       "*   **Lots of information:** We feed the computer tons and tons of examples. Like, if we want it to recognize a cat, we show it millions of pictures of cats!\n",
       "*   **Spotting patterns:** The computer looks for patterns in all those examples. It figures out things like \"cats usually have pointy ears, whiskers, and a tail.\"\n",
       "*   **Making guesses:**  When you show it a new picture, it uses what it learned to guess if it's a cat or not.\n",
       "*   **Learning from mistakes:** If it guesses wrong, we tell it, and it tries to do better next time! It learns from its mistakes.\n",
       "\n",
       "So, like a super smart student, an AI computer program learns how to do things by looking at lots of examples, finding patterns, and improving over time. It can then do things like:\n",
       "\n",
       "*   **Understand what you say:** Like when you talk to Siri or Alexa.\n",
       "*   **Help you find things online:** Like when Google shows you the best websites when you search for something.\n",
       "*   **Play games:** Some computer games are so good because the computer is using AI to make the game harder and more fun.\n",
       "*   **Drive cars:**  Someday, cars might drive themselves using AI!\n",
       "\n",
       "AI is like giving computers a brain (a really, REALLY simple one, but still!). It's still a new technology, and scientists are still working hard to make it even smarter!\n"
      ],
      "text/plain": [
       "<IPython.core.display.Markdown object>"
      ]
     },
     "execution_count": 7,
     "metadata": {},
     "output_type": "execute_result"
    }
   ],
   "source": [
    "Markdown(response.text)"
   ]
  },
  {
   "cell_type": "markdown",
   "id": "872095f1",
   "metadata": {
    "id": "byx0pT9ZMW2Q",
    "papermill": {
     "duration": 0.011917,
     "end_time": "2025-04-01T22:40:23.014687",
     "exception": false,
     "start_time": "2025-04-01T22:40:23.002770",
     "status": "completed"
    },
    "tags": []
   },
   "source": [
    "### Start a chat\n",
    "\n",
    "The previous example uses a single-turn, text-in/text-out structure, but you can also set up a multi-turn chat structure too."
   ]
  },
  {
   "cell_type": "code",
   "execution_count": 8,
   "id": "fe5ab0b1",
   "metadata": {
    "execution": {
     "iopub.execute_input": "2025-04-01T22:40:23.040660Z",
     "iopub.status.busy": "2025-04-01T22:40:23.040225Z",
     "iopub.status.idle": "2025-04-01T22:40:23.353450Z",
     "shell.execute_reply": "2025-04-01T22:40:23.352340Z"
    },
    "id": "lV_S5ZL5MidD",
    "papermill": {
     "duration": 0.328689,
     "end_time": "2025-04-01T22:40:23.355524",
     "exception": false,
     "start_time": "2025-04-01T22:40:23.026835",
     "status": "completed"
    },
    "tags": []
   },
   "outputs": [
    {
     "name": "stdout",
     "output_type": "stream",
     "text": [
      "Hello Tien! It's nice to meet you. How can I help you today?\n",
      "\n"
     ]
    }
   ],
   "source": [
    "chat = client.chats.create(model='gemini-2.0-flash', history=[])\n",
    "response = chat.send_message('Hello! My name is Tien.')\n",
    "print(response.text)"
   ]
  },
  {
   "cell_type": "code",
   "execution_count": 9,
   "id": "761fec1a",
   "metadata": {
    "execution": {
     "iopub.execute_input": "2025-04-01T22:40:23.383008Z",
     "iopub.status.busy": "2025-04-01T22:40:23.382634Z",
     "iopub.status.idle": "2025-04-01T22:40:24.869326Z",
     "shell.execute_reply": "2025-04-01T22:40:24.867860Z"
    },
    "id": "7b0372c3c64a",
    "papermill": {
     "duration": 1.503095,
     "end_time": "2025-04-01T22:40:24.871527",
     "exception": false,
     "start_time": "2025-04-01T22:40:23.368432",
     "status": "completed"
    },
    "tags": []
   },
   "outputs": [
    {
     "name": "stdout",
     "output_type": "stream",
     "text": [
      "Okay, here's something interesting about dinosaurs:\n",
      "\n",
      "**We're still discovering new things about dinosaurs' colors!**\n",
      "\n",
      "For a long time, scientists thought we'd never know what color dinosaurs were. However, in recent years, through incredibly detailed analysis of fossilized feathers and skin, they've been able to identify structures called melanosomes. Melanosomes contain pigments, and by analyzing their shape and arrangement, scientists can actually infer the colors of some dinosaurs!\n",
      "\n",
      "For example, we now know that *Sinosauropteryx* (a small, feathered dinosaur) had reddish-brown and white stripes! And *Microraptor* (a four-winged dinosaur) was likely iridescent black, like a raven.\n",
      "\n",
      "So, even though we might picture dinosaurs as dull gray or green, the reality is they could have been vibrantly colored creatures, perhaps using color for camouflage, display, or communication, just like birds today. This research is relatively new, and there's a lot more to learn about dinosaur coloration!\n",
      "\n"
     ]
    }
   ],
   "source": [
    "response = chat.send_message('Can you tell me something interesting about dinosaurs?')\n",
    "print(response.text)"
   ]
  },
  {
   "cell_type": "markdown",
   "id": "4e100d7c",
   "metadata": {
    "papermill": {
     "duration": 0.012879,
     "end_time": "2025-04-01T22:40:24.897814",
     "exception": false,
     "start_time": "2025-04-01T22:40:24.884935",
     "status": "completed"
    },
    "tags": []
   },
   "source": [
    "While you have the `chat` object alive, the conversation state\n",
    "persists. Confirm that by asking if it knows the user's name."
   ]
  },
  {
   "cell_type": "code",
   "execution_count": 10,
   "id": "e69df41e",
   "metadata": {
    "execution": {
     "iopub.execute_input": "2025-04-01T22:40:24.925773Z",
     "iopub.status.busy": "2025-04-01T22:40:24.925402Z",
     "iopub.status.idle": "2025-04-01T22:40:25.201466Z",
     "shell.execute_reply": "2025-04-01T22:40:25.200131Z"
    },
    "id": "d3f9591392a7",
    "papermill": {
     "duration": 0.292692,
     "end_time": "2025-04-01T22:40:25.203661",
     "exception": false,
     "start_time": "2025-04-01T22:40:24.910969",
     "status": "completed"
    },
    "tags": []
   },
   "outputs": [
    {
     "name": "stdout",
     "output_type": "stream",
     "text": [
      "Yes, your name is Tien.\n",
      "\n"
     ]
    }
   ],
   "source": [
    "response = chat.send_message('Do you remember what my name is?')\n",
    "print(response.text)"
   ]
  },
  {
   "cell_type": "markdown",
   "id": "7acbc9fa",
   "metadata": {
    "id": "2KAjpr1200sW",
    "papermill": {
     "duration": 0.012751,
     "end_time": "2025-04-01T22:40:25.229557",
     "exception": false,
     "start_time": "2025-04-01T22:40:25.216806",
     "status": "completed"
    },
    "tags": []
   },
   "source": [
    "### Choose a model\n",
    "\n",
    "The Gemini API provides access to a number of models from the Gemini model family. Read about the available models and their capabilities on the [model overview page](https://ai.google.dev/gemini-api/docs/models/gemini).\n",
    "\n",
    "In this step you'll use the API to list all of the available models."
   ]
  },
  {
   "cell_type": "code",
   "execution_count": 11,
   "id": "76f0f482",
   "metadata": {
    "execution": {
     "iopub.execute_input": "2025-04-01T22:40:25.257120Z",
     "iopub.status.busy": "2025-04-01T22:40:25.256726Z",
     "iopub.status.idle": "2025-04-01T22:40:25.288226Z",
     "shell.execute_reply": "2025-04-01T22:40:25.286830Z"
    },
    "id": "uUUZa2uq2jDm",
    "papermill": {
     "duration": 0.048602,
     "end_time": "2025-04-01T22:40:25.291046",
     "exception": false,
     "start_time": "2025-04-01T22:40:25.242444",
     "status": "completed"
    },
    "tags": []
   },
   "outputs": [
    {
     "name": "stdout",
     "output_type": "stream",
     "text": [
      "models/chat-bison-001\n",
      "models/text-bison-001\n",
      "models/embedding-gecko-001\n",
      "models/gemini-1.0-pro-vision-latest\n",
      "models/gemini-pro-vision\n",
      "models/gemini-1.5-pro-latest\n",
      "models/gemini-1.5-pro-001\n",
      "models/gemini-1.5-pro-002\n",
      "models/gemini-1.5-pro\n",
      "models/gemini-1.5-flash-latest\n",
      "models/gemini-1.5-flash-001\n",
      "models/gemini-1.5-flash-001-tuning\n",
      "models/gemini-1.5-flash\n",
      "models/gemini-1.5-flash-002\n",
      "models/gemini-1.5-flash-8b\n",
      "models/gemini-1.5-flash-8b-001\n",
      "models/gemini-1.5-flash-8b-latest\n",
      "models/gemini-1.5-flash-8b-exp-0827\n",
      "models/gemini-1.5-flash-8b-exp-0924\n",
      "models/gemini-2.5-pro-exp-03-25\n",
      "models/gemini-2.0-flash-exp\n",
      "models/gemini-2.0-flash\n",
      "models/gemini-2.0-flash-001\n",
      "models/gemini-2.0-flash-exp-image-generation\n",
      "models/gemini-2.0-flash-lite-001\n",
      "models/gemini-2.0-flash-lite\n",
      "models/gemini-2.0-flash-lite-preview-02-05\n",
      "models/gemini-2.0-flash-lite-preview\n",
      "models/gemini-2.0-pro-exp\n",
      "models/gemini-2.0-pro-exp-02-05\n",
      "models/gemini-exp-1206\n",
      "models/gemini-2.0-flash-thinking-exp-01-21\n",
      "models/gemini-2.0-flash-thinking-exp\n",
      "models/gemini-2.0-flash-thinking-exp-1219\n",
      "models/learnlm-1.5-pro-experimental\n",
      "models/gemma-3-4b-it\n",
      "models/gemma-3-12b-it\n",
      "models/gemma-3-27b-it\n",
      "models/embedding-001\n",
      "models/text-embedding-004\n",
      "models/gemini-embedding-exp-03-07\n",
      "models/gemini-embedding-exp\n",
      "models/aqa\n",
      "models/imagen-3.0-generate-002\n"
     ]
    }
   ],
   "source": [
    "for model in client.models.list():\n",
    "  print(model.name)"
   ]
  },
  {
   "cell_type": "markdown",
   "id": "1131f217",
   "metadata": {
    "id": "rN49kSI54R1v",
    "papermill": {
     "duration": 0.012663,
     "end_time": "2025-04-01T22:40:25.324298",
     "exception": false,
     "start_time": "2025-04-01T22:40:25.311635",
     "status": "completed"
    },
    "tags": []
   },
   "source": [
    "The [`models.list`](https://ai.google.dev/api/models#method:-models.list) response also returns additional information about the model's capabilities, like the token limits and supported parameters."
   ]
  },
  {
   "cell_type": "code",
   "execution_count": 12,
   "id": "eab4f0bd",
   "metadata": {
    "execution": {
     "iopub.execute_input": "2025-04-01T22:40:25.351503Z",
     "iopub.status.busy": "2025-04-01T22:40:25.350587Z",
     "iopub.status.idle": "2025-04-01T22:40:25.378208Z",
     "shell.execute_reply": "2025-04-01T22:40:25.377014Z"
    },
    "id": "k7JJ1K6j4Rl8",
    "papermill": {
     "duration": 0.043725,
     "end_time": "2025-04-01T22:40:25.380337",
     "exception": false,
     "start_time": "2025-04-01T22:40:25.336612",
     "status": "completed"
    },
    "tags": []
   },
   "outputs": [
    {
     "name": "stdout",
     "output_type": "stream",
     "text": [
      "{'description': 'Gemini 2.0 Flash',\n",
      " 'display_name': 'Gemini 2.0 Flash',\n",
      " 'input_token_limit': 1048576,\n",
      " 'name': 'models/gemini-2.0-flash',\n",
      " 'output_token_limit': 8192,\n",
      " 'supported_actions': ['generateContent', 'countTokens', 'createCachedContent'],\n",
      " 'tuned_model_info': {},\n",
      " 'version': '2.0'}\n"
     ]
    }
   ],
   "source": [
    "from pprint import pprint\n",
    "\n",
    "for model in client.models.list():\n",
    "  if model.name == 'models/gemini-2.0-flash':\n",
    "    pprint(model.to_json_dict())\n",
    "    break"
   ]
  },
  {
   "cell_type": "markdown",
   "id": "84322872",
   "metadata": {
    "id": "5rU_UBlZdooM",
    "papermill": {
     "duration": 0.012825,
     "end_time": "2025-04-01T22:40:25.406046",
     "exception": false,
     "start_time": "2025-04-01T22:40:25.393221",
     "status": "completed"
    },
    "tags": []
   },
   "source": [
    "## Explore generation parameters\n",
    "\n"
   ]
  },
  {
   "cell_type": "markdown",
   "id": "c68289dc",
   "metadata": {
    "id": "G7NfEizeipbW",
    "papermill": {
     "duration": 0.01259,
     "end_time": "2025-04-01T22:40:25.431514",
     "exception": false,
     "start_time": "2025-04-01T22:40:25.418924",
     "status": "completed"
    },
    "tags": []
   },
   "source": [
    "### Output length\n",
    "\n",
    "When generating text with an LLM, the output length affects cost and performance. Generating more tokens increases computation, leading to higher energy consumption, latency, and cost.\n",
    "\n",
    "To stop the model from generating tokens past a limit, you can specify the `max_output_tokens` parameter when using the Gemini API. Specifying this parameter does not influence the generation of the output tokens, so the output will not become more stylistically or textually succinct, but it will stop generating tokens once the specified length is reached. Prompt engineering may be required to generate a more complete output for your given limit."
   ]
  },
  {
   "cell_type": "code",
   "execution_count": 13,
   "id": "bf022329",
   "metadata": {
    "execution": {
     "iopub.execute_input": "2025-04-01T22:40:25.460060Z",
     "iopub.status.busy": "2025-04-01T22:40:25.459134Z",
     "iopub.status.idle": "2025-04-01T22:40:26.832909Z",
     "shell.execute_reply": "2025-04-01T22:40:26.831835Z"
    },
    "id": "qVf23JsIi9ma",
    "papermill": {
     "duration": 1.390235,
     "end_time": "2025-04-01T22:40:26.834904",
     "exception": false,
     "start_time": "2025-04-01T22:40:25.444669",
     "status": "completed"
    },
    "tags": []
   },
   "outputs": [
    {
     "name": "stdout",
     "output_type": "stream",
     "text": [
      "## The Enduring Olive: A Tiny Fruit with a Grand Impact on Modern Society\n",
      "\n",
      "The olive, a humble drupe born from the ancient olive tree (Olea europaea), may seem insignificant in the grand scheme of modern society. However, this small fruit, and the products derived from it, have woven themselves inextricably into the fabric of our lives, impacting our cuisine, health, economy, and even our cultural understanding of the world. From the ubiquitous olive oil adorning our tables to the briny green and black morsels enhancing our meals, the olive boasts a profound and enduring importance in the 21st century.\n",
      "\n",
      "One of the most significant contributions of the olive to modern society lies in its culinary prowess. Olive oil, extracted from the fruit, stands as a cornerstone of Mediterranean cuisine, a dietary pattern celebrated for its health benefits and flavorful dishes. Beyond its signature tang, olive oil boasts a remarkable versatility. It serves as a cooking medium, a salad dressing, a finishing drizzle,\n"
     ]
    }
   ],
   "source": [
    "from google.genai import types\n",
    "\n",
    "short_config = types.GenerateContentConfig(max_output_tokens=200)\n",
    "\n",
    "response = client.models.generate_content(\n",
    "    model='gemini-2.0-flash',\n",
    "    config=short_config,\n",
    "    contents='Write a 1000 word essay on the importance of olives in modern society.')\n",
    "\n",
    "print(response.text)"
   ]
  },
  {
   "cell_type": "code",
   "execution_count": 14,
   "id": "aa715d19",
   "metadata": {
    "execution": {
     "iopub.execute_input": "2025-04-01T22:40:26.862074Z",
     "iopub.status.busy": "2025-04-01T22:40:26.861680Z",
     "iopub.status.idle": "2025-04-01T22:40:27.763789Z",
     "shell.execute_reply": "2025-04-01T22:40:27.762534Z"
    },
    "id": "W-3kR2F5kdMR",
    "papermill": {
     "duration": 0.91817,
     "end_time": "2025-04-01T22:40:27.765898",
     "exception": false,
     "start_time": "2025-04-01T22:40:26.847728",
     "status": "completed"
    },
    "tags": []
   },
   "outputs": [
    {
     "name": "stdout",
     "output_type": "stream",
     "text": [
      "From ancient groves, a humble sphere,\n",
      "The olive lands in modern cheer.\n",
      "Pressed to oil, a healthy gleam,\n",
      "Dressing salads, a vibrant dream.\n",
      "\n",
      "Brined and cured, a salty bite,\n",
      "On pizzas strewn, a welcome sight.\n",
      "Tapenade spread, a gourmet treat,\n",
      "A taste of sun, can't be beat.\n",
      "\n",
      "Beyond the taste, a symbol bright,\n",
      "Of peace and health, a guiding light.\n",
      "So raise a glass, let flavors blend,\n",
      "The olive's grace, a timeless friend.\n",
      "\n"
     ]
    }
   ],
   "source": [
    "response = client.models.generate_content(\n",
    "    model='gemini-2.0-flash',\n",
    "    config=short_config,\n",
    "    contents='Write a short poem on the importance of olives in modern society.')\n",
    "\n",
    "print(response.text)"
   ]
  },
  {
   "cell_type": "markdown",
   "id": "823ff67b",
   "metadata": {
    "id": "3ZhDSLB6lqqB",
    "papermill": {
     "duration": 0.012694,
     "end_time": "2025-04-01T22:40:27.791729",
     "exception": false,
     "start_time": "2025-04-01T22:40:27.779035",
     "status": "completed"
    },
    "tags": []
   },
   "source": [
    "Explore with your own prompts. Try a prompt with a restrictive output limit and then adjust the prompt to work within that limit."
   ]
  },
  {
   "cell_type": "code",
   "execution_count": 15,
   "id": "a03b6bd0",
   "metadata": {
    "execution": {
     "iopub.execute_input": "2025-04-01T22:40:27.819226Z",
     "iopub.status.busy": "2025-04-01T22:40:27.818801Z",
     "iopub.status.idle": "2025-04-01T22:40:28.339306Z",
     "shell.execute_reply": "2025-04-01T22:40:28.338304Z"
    },
    "papermill": {
     "duration": 0.537033,
     "end_time": "2025-04-01T22:40:28.341786",
     "exception": false,
     "start_time": "2025-04-01T22:40:27.804753",
     "status": "completed"
    },
    "tags": []
   },
   "outputs": [
    {
     "name": "stdout",
     "output_type": "stream",
     "text": [
      "Here are a few slogan options for your Australian Kaggle team, playing on different aspects:\n",
      "\n",
      "**Focusing on Australian identity:**\n",
      "\n",
      "*   Down Under Data Dominators.\n",
      "*   Kaggling Kangaroos: Hopping to the Top.\n"
     ]
    }
   ],
   "source": [
    "config_1 = types.GenerateContentConfig(max_output_tokens=50)\n",
    "\n",
    "response_1 = client.models.generate_content(\n",
    "    model='gemini-2.0-flash',\n",
    "    config= config_1,\n",
    "    contents='Write a slogan for a Kaggle team with 5 members from Australia.')\n",
    "\n",
    "print(response_1.text)"
   ]
  },
  {
   "cell_type": "markdown",
   "id": "5ec9ff26",
   "metadata": {
    "id": "alx-WaAvir_9",
    "papermill": {
     "duration": 0.013106,
     "end_time": "2025-04-01T22:40:28.368650",
     "exception": false,
     "start_time": "2025-04-01T22:40:28.355544",
     "status": "completed"
    },
    "tags": []
   },
   "source": [
    "### Temperature\n",
    "\n",
    "Temperature controls the degree of randomness in token selection. Higher temperatures result in a higher number of candidate tokens from which the next output token is selected, and can produce more diverse results, while lower temperatures have the opposite effect, such that a temperature of 0 results in greedy decoding, selecting the most probable token at each step.\n",
    "\n",
    "Temperature doesn't provide any guarantees of randomness, but it can be used to \"nudge\" the output somewhat."
   ]
  },
  {
   "cell_type": "code",
   "execution_count": 16,
   "id": "e576098e",
   "metadata": {
    "execution": {
     "iopub.execute_input": "2025-04-01T22:40:28.396772Z",
     "iopub.status.busy": "2025-04-01T22:40:28.396425Z",
     "iopub.status.idle": "2025-04-01T22:40:29.699719Z",
     "shell.execute_reply": "2025-04-01T22:40:29.698416Z"
    },
    "id": "SHraGMzqnZqt",
    "papermill": {
     "duration": 1.32,
     "end_time": "2025-04-01T22:40:29.701951",
     "exception": false,
     "start_time": "2025-04-01T22:40:28.381951",
     "status": "completed"
    },
    "tags": []
   },
   "outputs": [
    {
     "name": "stdout",
     "output_type": "stream",
     "text": [
      "Azure\n",
      " -------------------------\n",
      "Teal\n",
      " -------------------------\n",
      "Azure.\n",
      " -------------------------\n",
      "Turquoise\n",
      " -------------------------\n",
      "Magenta\n",
      " -------------------------\n"
     ]
    }
   ],
   "source": [
    "high_temp_config = types.GenerateContentConfig(temperature=2.0)\n",
    "\n",
    "\n",
    "for _ in range(5):\n",
    "  response = client.models.generate_content(\n",
    "      model='gemini-2.0-flash',\n",
    "      config=high_temp_config,\n",
    "      contents='Pick a random colour... (respond in a single word)')\n",
    "\n",
    "  if response.text:\n",
    "    print(response.text, '-' * 25)"
   ]
  },
  {
   "cell_type": "markdown",
   "id": "341b5007",
   "metadata": {
    "id": "z3J4pCTuof7e",
    "papermill": {
     "duration": 0.013647,
     "end_time": "2025-04-01T22:40:29.728875",
     "exception": false,
     "start_time": "2025-04-01T22:40:29.715228",
     "status": "completed"
    },
    "tags": []
   },
   "source": [
    "Now try the same prompt with temperature set to zero. Note that the output is not completely deterministic, as other parameters affect token selection, but the results will tend to be more stable."
   ]
  },
  {
   "cell_type": "code",
   "execution_count": 17,
   "id": "1fc882f8",
   "metadata": {
    "execution": {
     "iopub.execute_input": "2025-04-01T22:40:29.757094Z",
     "iopub.status.busy": "2025-04-01T22:40:29.756758Z",
     "iopub.status.idle": "2025-04-01T22:42:08.056382Z",
     "shell.execute_reply": "2025-04-01T22:42:08.055306Z"
    },
    "id": "clymkWv-PfUZ",
    "papermill": {
     "duration": 98.32987,
     "end_time": "2025-04-01T22:42:08.072094",
     "exception": false,
     "start_time": "2025-04-01T22:40:29.742224",
     "status": "completed"
    },
    "tags": []
   },
   "outputs": [
    {
     "name": "stdout",
     "output_type": "stream",
     "text": [
      "Azure\n",
      " -------------------------\n",
      "Azure\n",
      " -------------------------\n",
      "Azure\n",
      " -------------------------\n",
      "Azure\n",
      " -------------------------\n",
      "Azure\n",
      " -------------------------\n"
     ]
    }
   ],
   "source": [
    "low_temp_config = types.GenerateContentConfig(temperature=0.0)\n",
    "\n",
    "for _ in range(5):\n",
    "  response = client.models.generate_content(\n",
    "      model='gemini-2.0-flash',\n",
    "      config=low_temp_config,\n",
    "      contents='Pick a random colour... (respond in a single word)')\n",
    "\n",
    "  if response.text:\n",
    "    print(response.text, '-' * 25)"
   ]
  },
  {
   "cell_type": "markdown",
   "id": "78cd6056",
   "metadata": {
    "id": "St5nt3vzitsZ",
    "papermill": {
     "duration": 0.01398,
     "end_time": "2025-04-01T22:42:08.099918",
     "exception": false,
     "start_time": "2025-04-01T22:42:08.085938",
     "status": "completed"
    },
    "tags": []
   },
   "source": [
    "### Top-P\n",
    "\n",
    "Like temperature, the top-P parameter is also used to control the diversity of the model's output.\n",
    "\n",
    "Top-P defines the probability threshold that, once cumulatively exceeded, tokens stop being selected as candidates. A top-P of 0 is typically equivalent to greedy decoding, and a top-P of 1 typically selects every token in the model's vocabulary.\n",
    "\n",
    "You may also see top-K referenced in LLM literature. Top-K is not configurable in the Gemini 2.0 series of models, but can be changed in older models. Top-K is a positive integer that defines the number of most probable tokens from which to select the output token. A top-K of 1 selects a single token, performing greedy decoding.\n",
    "\n",
    "\n",
    "Run this example a number of times, change the settings and observe the change in output."
   ]
  },
  {
   "cell_type": "code",
   "execution_count": 18,
   "id": "0413bf91",
   "metadata": {
    "execution": {
     "iopub.execute_input": "2025-04-01T22:42:08.128852Z",
     "iopub.status.busy": "2025-04-01T22:42:08.128054Z",
     "iopub.status.idle": "2025-04-01T22:42:13.771597Z",
     "shell.execute_reply": "2025-04-01T22:42:13.770313Z"
    },
    "id": "lPlzpEavUV8F",
    "papermill": {
     "duration": 5.660631,
     "end_time": "2025-04-01T22:42:13.774034",
     "exception": false,
     "start_time": "2025-04-01T22:42:08.113403",
     "status": "completed"
    },
    "tags": []
   },
   "outputs": [
    {
     "name": "stdout",
     "output_type": "stream",
     "text": [
      "Clementine, a calico of discerning tastes and a perpetually unimpressed expression, considered her life utterly predictable. Sunbeam naps, chasing dust bunnies, the occasional disdainful glance at the goldfish – it was all terribly…beige. She yearned for something more, a splash of vibrant color in her monochrome existence.\n",
      "\n",
      "One blustery autumn afternoon, the back door, usually bolted tighter than a miser's purse, was ajar. A tantalizing gust of wind, carrying the scent of damp earth and decaying leaves, beckoned. Clementine, abandoning her nap mid-yawn, slipped through the crack.\n",
      "\n",
      "The world exploded.\n",
      "\n",
      "Gone was the familiar scent of lavender potpourri and tuna-flavored kibble. Instead, a symphony of smells assaulted her senses: the sharp tang of pine needles, the earthy musk of mushrooms, the sweet decay of fallen apples. The wind whipped through her fur, a playful, chaotic dance.\n",
      "\n",
      "Clementine, emboldened by the novelty, ventured into the woods bordering her backyard. Towering trees, their leaves ablaze in fiery hues, formed a cathedral of color. Squirrels chattered insults from above, their bushy tails twitching with indignation at her intrusion. She ignored them, her gaze fixed on a shimmering, silver ribbon winding through the trees – a stream.\n",
      "\n",
      "She'd only ever seen water in her pristine, ceramic bowl. This was different. This water gurgled and chuckled, reflecting the sky in a thousand fragmented mirrors. Curiosity overriding caution, she dipped a tentative paw. It was cold, shockingly so, but invigorating.\n",
      "\n",
      "Following the stream, Clementine stumbled upon a hidden glade. Sunlight filtered through the canopy, illuminating a patch of vibrant wildflowers. Butterflies, their wings painted with intricate patterns, danced in the air. In the center of the glade, perched on a moss-covered log, sat a creature unlike any she had ever seen.\n",
      "\n",
      "It was a badger, its striped face radiating an air of quiet wisdom. He was humming a low, rumbling tune as he polished a smooth, grey stone.\n",
      "\n",
      "Clementine, usually aloof and indifferent, felt a strange pull towards the badger. She approached cautiously, her tail twitching with a mixture of fear and fascination.\n",
      "\n",
      "The badger looked up, his dark eyes twinkling. \"Well now,\" he rumbled, his voice like the rustling of leaves. \"What have we here? A house cat, lost in the woods?\"\n",
      "\n",
      "Clementine, surprised he could understand her, managed a hesitant meow.\n",
      "\n",
      "\"Lost, are you?\" the badger chuckled. \"Or perhaps…found?\"\n",
      "\n",
      "He spent the afternoon telling her stories of the woods, of the grumpy old owl who lived in the hollow oak, of the mischievous foxes who played tricks on the unsuspecting rabbits. He showed her how to find the sweetest berries and the warmest patches of sunlight.\n",
      "\n",
      "As dusk began to settle, painting the sky in shades of purple and orange, Clementine felt a pang of longing for her warm bed and a bowl of kibble.\n",
      "\n",
      "\"It's time for you to go home, little one,\" the badger said, sensing her unease. \"But remember this day. Remember the scent of the woods, the sound of the stream, the feel of the sun on your fur. And know that adventure is always waiting, just beyond the familiar.\"\n",
      "\n",
      "He led her back to the edge of the woods, pointing her towards the faint glow of her house.\n",
      "\n",
      "Clementine slipped back through the ajar door, unnoticed. She curled up on her favorite cushion, the scent of lavender and tuna strangely comforting.\n",
      "\n",
      "But something had changed. The world, once beige, now held a hint of green, a whisper of silver, a memory of wildflowers and a wise old badger. Her life was still predictable, perhaps, but now, Clementine knew that even a house cat could find adventure, if only she dared to step outside. And she knew, with a certainty that warmed her from the inside out, that she would venture out again. The world, after all, was waiting to be explored.\n",
      "\n"
     ]
    }
   ],
   "source": [
    "model_config = types.GenerateContentConfig(\n",
    "    # These are the default values for gemini-2.0-flash.\n",
    "    temperature=0.95,\n",
    "    top_p=0,\n",
    ")\n",
    "\n",
    "story_prompt = \"You are a creative writer. Write a short story about a cat who goes on an adventure.\"\n",
    "response = client.models.generate_content(\n",
    "    model='gemini-2.0-flash',\n",
    "    config=model_config,\n",
    "    contents=story_prompt)\n",
    "\n",
    "print(response.text)"
   ]
  },
  {
   "cell_type": "markdown",
   "id": "5593fe8b",
   "metadata": {
    "id": "rMrYs1koY6DX",
    "papermill": {
     "duration": 0.013234,
     "end_time": "2025-04-01T22:42:13.801190",
     "exception": false,
     "start_time": "2025-04-01T22:42:13.787956",
     "status": "completed"
    },
    "tags": []
   },
   "source": [
    "## Prompting\n",
    "\n",
    "This section contains some prompts from the chapter for you to try out directly in the API. Try changing the text here to see how each prompt performs with different instructions, more examples, or any other changes you can think of."
   ]
  },
  {
   "cell_type": "markdown",
   "id": "52a805c9",
   "metadata": {
    "id": "hhj_tQidZJP7",
    "papermill": {
     "duration": 0.013281,
     "end_time": "2025-04-01T22:42:13.828137",
     "exception": false,
     "start_time": "2025-04-01T22:42:13.814856",
     "status": "completed"
    },
    "tags": []
   },
   "source": [
    "### Zero-shot\n",
    "\n",
    "Zero-shot prompts are prompts that describe the request for the model directly.\n",
    "\n",
    "<table align=left>\n",
    "  <td>\n",
    "    <a target=\"_blank\" href=\"https://aistudio.google.com/prompts/1gzKKgDHwkAvexG5Up0LMtl1-6jKMKe4g\"><img src=\"https://ai.google.dev/site-assets/images/marketing/home/icon-ais.png\" style=\"height: 24px\" height=24/> Open in AI Studio</a>\n",
    "  </td>\n",
    "</table>"
   ]
  },
  {
   "cell_type": "code",
   "execution_count": 19,
   "id": "3be24bbd",
   "metadata": {
    "execution": {
     "iopub.execute_input": "2025-04-01T22:42:13.857720Z",
     "iopub.status.busy": "2025-04-01T22:42:13.856569Z",
     "iopub.status.idle": "2025-04-01T22:42:14.428727Z",
     "shell.execute_reply": "2025-04-01T22:42:14.427599Z"
    },
    "id": "1_t-cwnDZzbH",
    "papermill": {
     "duration": 0.589098,
     "end_time": "2025-04-01T22:42:14.430891",
     "exception": false,
     "start_time": "2025-04-01T22:42:13.841793",
     "status": "completed"
    },
    "tags": []
   },
   "outputs": [
    {
     "name": "stdout",
     "output_type": "stream",
     "text": [
      "POSITIVE\n",
      "\n"
     ]
    }
   ],
   "source": [
    "model_config = types.GenerateContentConfig(\n",
    "    temperature=0.1,\n",
    "    top_p=1,\n",
    "    max_output_tokens=5,\n",
    ")\n",
    "\n",
    "zero_shot_prompt = \"\"\"Classify movie reviews as POSITIVE, NEUTRAL or NEGATIVE.\n",
    "Review: \"Her\" is a disturbing study revealing the direction\n",
    "humanity is headed if AI is allowed to keep evolving,\n",
    "unchecked. I wish there were more movies like this masterpiece.\n",
    "Sentiment: \"\"\"\n",
    "\n",
    "response = client.models.generate_content(\n",
    "    model='gemini-2.0-flash',\n",
    "    config=model_config,\n",
    "    contents=zero_shot_prompt)\n",
    "\n",
    "print(response.text)"
   ]
  },
  {
   "cell_type": "markdown",
   "id": "92783e9a",
   "metadata": {
    "id": "3b5568bdeb11",
    "papermill": {
     "duration": 0.013574,
     "end_time": "2025-04-01T22:42:14.458404",
     "exception": false,
     "start_time": "2025-04-01T22:42:14.444830",
     "status": "completed"
    },
    "tags": []
   },
   "source": [
    "#### Enum mode\n",
    "\n",
    "The models are trained to generate text, and while the Gemini 2.0 models are great at following instructions, other models can sometimes produce more text than you may wish for. In the preceding example, the model will output the label, but sometimes it can include a preceding \"Sentiment\" label, and without an output token limit, it may also add explanatory text afterwards. See [this prompt in AI Studio](https://aistudio.google.com/prompts/1gzKKgDHwkAvexG5Up0LMtl1-6jKMKe4g) for an example.\n",
    "\n",
    "The Gemini API has an [Enum mode](https://github.com/google-gemini/cookbook/blob/main/quickstarts/Enum.ipynb) feature that allows you to constrain the output to a fixed set of values."
   ]
  },
  {
   "cell_type": "code",
   "execution_count": 20,
   "id": "ea52bc49",
   "metadata": {
    "execution": {
     "iopub.execute_input": "2025-04-01T22:42:14.488743Z",
     "iopub.status.busy": "2025-04-01T22:42:14.488386Z",
     "iopub.status.idle": "2025-04-01T22:42:14.977094Z",
     "shell.execute_reply": "2025-04-01T22:42:14.976040Z"
    },
    "id": "ad118a56c598",
    "papermill": {
     "duration": 0.506443,
     "end_time": "2025-04-01T22:42:14.979363",
     "exception": false,
     "start_time": "2025-04-01T22:42:14.472920",
     "status": "completed"
    },
    "tags": []
   },
   "outputs": [
    {
     "name": "stdout",
     "output_type": "stream",
     "text": [
      "positive\n"
     ]
    }
   ],
   "source": [
    "import enum\n",
    "\n",
    "class Sentiment(enum.Enum):\n",
    "    POSITIVE = \"positive\"\n",
    "    NEUTRAL = \"neutral\"\n",
    "    NEGATIVE = \"negative\"\n",
    "\n",
    "\n",
    "response = client.models.generate_content(\n",
    "    model='gemini-2.0-flash',\n",
    "    config=types.GenerateContentConfig(\n",
    "        response_mime_type=\"text/x.enum\",\n",
    "        response_schema=Sentiment\n",
    "    ),\n",
    "    contents=zero_shot_prompt)\n",
    "\n",
    "print(response.text)"
   ]
  },
  {
   "cell_type": "markdown",
   "id": "95b3604f",
   "metadata": {
    "papermill": {
     "duration": 0.014069,
     "end_time": "2025-04-01T22:42:15.007426",
     "exception": false,
     "start_time": "2025-04-01T22:42:14.993357",
     "status": "completed"
    },
    "tags": []
   },
   "source": [
    "When using constrained output like an enum, the Python SDK will attempt to convert the model's text response into a Python object automatically. It's stored in the `response.parsed` field."
   ]
  },
  {
   "cell_type": "code",
   "execution_count": 21,
   "id": "ec51c6b0",
   "metadata": {
    "execution": {
     "iopub.execute_input": "2025-04-01T22:42:15.037040Z",
     "iopub.status.busy": "2025-04-01T22:42:15.036134Z",
     "iopub.status.idle": "2025-04-01T22:42:15.041247Z",
     "shell.execute_reply": "2025-04-01T22:42:15.040346Z"
    },
    "papermill": {
     "duration": 0.022583,
     "end_time": "2025-04-01T22:42:15.043864",
     "exception": false,
     "start_time": "2025-04-01T22:42:15.021281",
     "status": "completed"
    },
    "tags": []
   },
   "outputs": [
    {
     "name": "stdout",
     "output_type": "stream",
     "text": [
      "Sentiment.POSITIVE\n",
      "<enum 'Sentiment'>\n"
     ]
    }
   ],
   "source": [
    "enum_response = response.parsed\n",
    "print(enum_response)\n",
    "print(type(enum_response))"
   ]
  },
  {
   "cell_type": "markdown",
   "id": "df218530",
   "metadata": {
    "id": "0udiSwNbv45W",
    "papermill": {
     "duration": 0.013491,
     "end_time": "2025-04-01T22:42:15.071208",
     "exception": false,
     "start_time": "2025-04-01T22:42:15.057717",
     "status": "completed"
    },
    "tags": []
   },
   "source": [
    "### One-shot and few-shot\n",
    "\n",
    "Providing an example of the expected response is known as a \"one-shot\" prompt. When you provide multiple examples, it is a \"few-shot\" prompt.\n",
    "\n",
    "<table align=left>\n",
    "  <td>\n",
    "    <a target=\"_blank\" href=\"https://aistudio.google.com/prompts/1jjWkjUSoMXmLvMJ7IzADr_GxHPJVV2bg\"><img src=\"https://ai.google.dev/site-assets/images/marketing/home/icon-ais.png\" style=\"height: 24px\" height=24/> Open in AI Studio</a>\n",
    "  </td>\n",
    "</table>\n"
   ]
  },
  {
   "cell_type": "code",
   "execution_count": 22,
   "id": "db8b63d2",
   "metadata": {
    "execution": {
     "iopub.execute_input": "2025-04-01T22:42:15.100391Z",
     "iopub.status.busy": "2025-04-01T22:42:15.100005Z",
     "iopub.status.idle": "2025-04-01T22:42:15.625246Z",
     "shell.execute_reply": "2025-04-01T22:42:15.624056Z"
    },
    "id": "hd4mVUukwOKZ",
    "papermill": {
     "duration": 0.542386,
     "end_time": "2025-04-01T22:42:15.627450",
     "exception": false,
     "start_time": "2025-04-01T22:42:15.085064",
     "status": "completed"
    },
    "tags": []
   },
   "outputs": [
    {
     "name": "stdout",
     "output_type": "stream",
     "text": [
      "```json\n",
      "{\n",
      "\"size\": \"large\",\n",
      "\"type\": \"normal\",\n",
      "\"ingredients\": [\"cheese\", \"pineapple\"]\n",
      "}\n",
      "```\n",
      "\n"
     ]
    }
   ],
   "source": [
    "few_shot_prompt = \"\"\"Parse a customer's pizza order into valid JSON:\n",
    "\n",
    "EXAMPLE:\n",
    "I want a small pizza with cheese, tomato sauce, and pepperoni.\n",
    "JSON Response:\n",
    "```\n",
    "{\n",
    "\"size\": \"small\",\n",
    "\"type\": \"normal\",\n",
    "\"ingredients\": [\"cheese\", \"tomato sauce\", \"pepperoni\"]\n",
    "}\n",
    "```\n",
    "\n",
    "EXAMPLE:\n",
    "Can I get a large pizza with tomato sauce, basil and mozzarella\n",
    "JSON Response:\n",
    "```\n",
    "{\n",
    "\"size\": \"large\",\n",
    "\"type\": \"normal\",\n",
    "\"ingredients\": [\"tomato sauce\", \"basil\", \"mozzarella\"]\n",
    "}\n",
    "```\n",
    "\n",
    "ORDER:\n",
    "\"\"\"\n",
    "\n",
    "customer_order = \"Give me a large with cheese & pineapple\"\n",
    "\n",
    "response = client.models.generate_content(\n",
    "    model='gemini-2.0-flash',\n",
    "    config=types.GenerateContentConfig(\n",
    "        temperature=0.1,\n",
    "        top_p=1,\n",
    "        max_output_tokens=250,\n",
    "    ),\n",
    "    contents=[few_shot_prompt, customer_order])\n",
    "\n",
    "print(response.text)"
   ]
  },
  {
   "cell_type": "markdown",
   "id": "c1a06028",
   "metadata": {
    "id": "021293096f08",
    "papermill": {
     "duration": 0.013781,
     "end_time": "2025-04-01T22:42:15.655431",
     "exception": false,
     "start_time": "2025-04-01T22:42:15.641650",
     "status": "completed"
    },
    "tags": []
   },
   "source": [
    "#### JSON mode\n",
    "\n",
    "To provide control over the schema, and to ensure that you only receive JSON (with no other text or markdown), you can use the Gemini API's [JSON mode](https://github.com/google-gemini/cookbook/blob/main/quickstarts/JSON_mode.ipynb). This forces the model to constrain decoding, such that token selection is guided by the supplied schema."
   ]
  },
  {
   "cell_type": "code",
   "execution_count": 23,
   "id": "7a68fcc3",
   "metadata": {
    "execution": {
     "iopub.execute_input": "2025-04-01T22:42:15.685894Z",
     "iopub.status.busy": "2025-04-01T22:42:15.685562Z",
     "iopub.status.idle": "2025-04-01T22:42:16.232279Z",
     "shell.execute_reply": "2025-04-01T22:42:16.231302Z"
    },
    "id": "50fbf0260912",
    "papermill": {
     "duration": 0.564561,
     "end_time": "2025-04-01T22:42:16.234601",
     "exception": false,
     "start_time": "2025-04-01T22:42:15.670040",
     "status": "completed"
    },
    "tags": []
   },
   "outputs": [
    {
     "name": "stdout",
     "output_type": "stream",
     "text": [
      "{\n",
      "  \"size\": \"large\",\n",
      "  \"ingredients\": [\"apple\", \"chocolate\"],\n",
      "  \"type\": \"dessert\"\n",
      "}\n"
     ]
    }
   ],
   "source": [
    "import typing_extensions as typing\n",
    "\n",
    "class PizzaOrder(typing.TypedDict):\n",
    "    size: str\n",
    "    ingredients: list[str]\n",
    "    type: str\n",
    "\n",
    "\n",
    "response = client.models.generate_content(\n",
    "    model='gemini-2.0-flash',\n",
    "    config=types.GenerateContentConfig(\n",
    "        temperature=0.1,\n",
    "        response_mime_type=\"application/json\",\n",
    "        response_schema=PizzaOrder,\n",
    "    ),\n",
    "    contents=\"Can I have a large dessert pizza with apple and chocolate\")\n",
    "\n",
    "print(response.text)"
   ]
  },
  {
   "cell_type": "markdown",
   "id": "5ebc7947",
   "metadata": {
    "id": "4a93e338e57c",
    "papermill": {
     "duration": 0.015891,
     "end_time": "2025-04-01T22:42:16.264856",
     "exception": false,
     "start_time": "2025-04-01T22:42:16.248965",
     "status": "completed"
    },
    "tags": []
   },
   "source": [
    "### Chain of Thought (CoT)\n",
    "\n",
    "Direct prompting on LLMs can return answers quickly and (in terms of output token usage) efficiently, but they can be prone to hallucination. The answer may \"look\" correct (in terms of language and syntax) but is incorrect in terms of factuality and reasoning.\n",
    "\n",
    "Chain-of-Thought prompting is a technique where you instruct the model to output intermediate reasoning steps, and it typically gets better results, especially when combined with few-shot examples. It is worth noting that this technique doesn't completely eliminate hallucinations, and that it tends to cost more to run, due to the increased token count.\n",
    "\n",
    "Models like the Gemini family are trained to be \"chatty\" or \"thoughtful\" and will provide reasoning steps without prompting, so for this simple example you can ask the model to be more direct in the prompt to force a non-reasoning response. Try re-running this step if the model gets lucky and gets the answer correct on the first try."
   ]
  },
  {
   "cell_type": "code",
   "execution_count": 24,
   "id": "5504bb16",
   "metadata": {
    "execution": {
     "iopub.execute_input": "2025-04-01T22:42:16.294878Z",
     "iopub.status.busy": "2025-04-01T22:42:16.294508Z",
     "iopub.status.idle": "2025-04-01T22:42:16.672528Z",
     "shell.execute_reply": "2025-04-01T22:42:16.671345Z"
    },
    "id": "5715555db1c1",
    "papermill": {
     "duration": 0.395493,
     "end_time": "2025-04-01T22:42:16.674592",
     "exception": false,
     "start_time": "2025-04-01T22:42:16.279099",
     "status": "completed"
    },
    "tags": []
   },
   "outputs": [
    {
     "name": "stdout",
     "output_type": "stream",
     "text": [
      "52\n",
      "\n"
     ]
    }
   ],
   "source": [
    "prompt = \"\"\"When I was 4 years old, my partner was 3 times my age. Now, I\n",
    "am 20 years old. How old is my partner? Return the answer directly.\"\"\"\n",
    "\n",
    "response = client.models.generate_content(\n",
    "    model='gemini-2.0-flash',\n",
    "    contents=prompt)\n",
    "\n",
    "print(response.text)"
   ]
  },
  {
   "cell_type": "markdown",
   "id": "45d8b994",
   "metadata": {
    "id": "e12b19677bfd",
    "papermill": {
     "duration": 0.014104,
     "end_time": "2025-04-01T22:42:16.702962",
     "exception": false,
     "start_time": "2025-04-01T22:42:16.688858",
     "status": "completed"
    },
    "tags": []
   },
   "source": [
    "Now try the same approach, but indicate to the model that it should \"think step by step\"."
   ]
  },
  {
   "cell_type": "code",
   "execution_count": 25,
   "id": "f17d4a90",
   "metadata": {
    "execution": {
     "iopub.execute_input": "2025-04-01T22:42:16.732591Z",
     "iopub.status.busy": "2025-04-01T22:42:16.732180Z",
     "iopub.status.idle": "2025-04-01T22:42:17.530390Z",
     "shell.execute_reply": "2025-04-01T22:42:17.529314Z"
    },
    "id": "ffd7536a481f",
    "papermill": {
     "duration": 0.815732,
     "end_time": "2025-04-01T22:42:17.532746",
     "exception": false,
     "start_time": "2025-04-01T22:42:16.717014",
     "status": "completed"
    },
    "tags": []
   },
   "outputs": [
    {
     "data": {
      "text/markdown": [
       "Here's how to solve this:\n",
       "\n",
       "1. **Find the age difference:** When you were 4, your partner was 3 times your age, meaning they were 4 * 3 = 12 years old.\n",
       "2. **Calculate the age difference:** The age difference between you and your partner is 12 - 4 = 8 years.\n",
       "3. **Determine the partner's current age:** Since the age difference remains the same, your partner is currently 20 + 8 = 28 years old.\n",
       "\n",
       "**Answer:** Your partner is 28 years old.\n"
      ],
      "text/plain": [
       "<IPython.core.display.Markdown object>"
      ]
     },
     "execution_count": 25,
     "metadata": {},
     "output_type": "execute_result"
    }
   ],
   "source": [
    "prompt = \"\"\"When I was 4 years old, my partner was 3 times my age. Now,\n",
    "I am 20 years old. How old is my partner? Let's think step by step.\"\"\"\n",
    "\n",
    "response = client.models.generate_content(\n",
    "    model='gemini-2.0-flash',\n",
    "    contents=prompt)\n",
    "\n",
    "Markdown(response.text)"
   ]
  },
  {
   "cell_type": "markdown",
   "id": "0ae25ca5",
   "metadata": {
    "id": "oiLgBQJj0V53",
    "papermill": {
     "duration": 0.01439,
     "end_time": "2025-04-01T22:42:17.561932",
     "exception": false,
     "start_time": "2025-04-01T22:42:17.547542",
     "status": "completed"
    },
    "tags": []
   },
   "source": [
    "### ReAct: Reason and act\n",
    "\n",
    "In this example you will run a ReAct prompt directly in the Gemini API and perform the searching steps yourself. As this prompt follows a well-defined structure, there are frameworks available that wrap the prompt into easier-to-use APIs that make tool calls automatically, such as the LangChain example from the \"Prompting\" whitepaper.\n",
    "\n",
    "To try this out with the Wikipedia search engine, check out the [Searching Wikipedia with ReAct](https://github.com/google-gemini/cookbook/blob/main/examples/Search_Wikipedia_using_ReAct.ipynb) cookbook example.\n",
    "\n",
    "\n",
    "> Note: The prompt and in-context examples used here are from [https://github.com/ysymyth/ReAct](https://github.com/ysymyth/ReAct) which is published under an [MIT license](https://opensource.org/licenses/MIT), Copyright (c) 2023 Shunyu Yao.\n",
    "\n",
    "<table align=left>\n",
    "  <td>\n",
    "    <a target=\"_blank\" href=\"https://aistudio.google.com/prompts/18oo63Lwosd-bQ6Ay51uGogB3Wk3H8XMO\"><img src=\"https://ai.google.dev/site-assets/images/marketing/home/icon-ais.png\" style=\"height: 24px\" height=24/> Open in AI Studio</a>\n",
    "  </td>\n",
    "</table>\n"
   ]
  },
  {
   "cell_type": "code",
   "execution_count": 26,
   "id": "65497da2",
   "metadata": {
    "execution": {
     "iopub.execute_input": "2025-04-01T22:42:17.592952Z",
     "iopub.status.busy": "2025-04-01T22:42:17.592548Z",
     "iopub.status.idle": "2025-04-01T22:42:17.599592Z",
     "shell.execute_reply": "2025-04-01T22:42:17.598467Z"
    },
    "id": "cBgyNJ5z0VSs",
    "papermill": {
     "duration": 0.02529,
     "end_time": "2025-04-01T22:42:17.601799",
     "exception": false,
     "start_time": "2025-04-01T22:42:17.576509",
     "status": "completed"
    },
    "tags": []
   },
   "outputs": [],
   "source": [
    "model_instructions = \"\"\"\n",
    "Solve a question answering task with interleaving Thought, Action, Observation steps. Thought can reason about the current situation,\n",
    "Observation is understanding relevant information from an Action's output and Action can be one of three types:\n",
    " (1) <search>entity</search>, which searches the exact entity on Wikipedia and returns the first paragraph if it exists. If not, it\n",
    "     will return some similar entities to search and you can try to search the information from those topics.\n",
    " (2) <lookup>keyword</lookup>, which returns the next sentence containing keyword in the current context. This only does exact matches,\n",
    "     so keep your searches short.\n",
    " (3) <finish>answer</finish>, which returns the answer and finishes the task.\n",
    "\"\"\"\n",
    "\n",
    "example1 = \"\"\"Question\n",
    "Musician and satirist Allie Goertz wrote a song about the \"The Simpsons\" character Milhouse, who Matt Groening named after who?\n",
    "\n",
    "Thought 1\n",
    "The question simplifies to \"The Simpsons\" character Milhouse is named after who. I only need to search Milhouse and find who it is named after.\n",
    "\n",
    "Action 1\n",
    "<search>Milhouse</search>\n",
    "\n",
    "Observation 1\n",
    "Milhouse Mussolini Van Houten is a recurring character in the Fox animated television series The Simpsons voiced by Pamela Hayden and created by Matt Groening.\n",
    "\n",
    "Thought 2\n",
    "The paragraph does not tell who Milhouse is named after, maybe I can look up \"named after\".\n",
    "\n",
    "Action 2\n",
    "<lookup>named after</lookup>\n",
    "\n",
    "Observation 2\n",
    "Milhouse was named after U.S. president Richard Nixon, whose middle name was Milhous.\n",
    "\n",
    "Thought 3\n",
    "Milhouse was named after U.S. president Richard Nixon, so the answer is Richard Nixon.\n",
    "\n",
    "Action 3\n",
    "<finish>Richard Nixon</finish>\n",
    "\"\"\"\n",
    "\n",
    "example2 = \"\"\"Question\n",
    "What is the elevation range for the area that the eastern sector of the Colorado orogeny extends into?\n",
    "\n",
    "Thought 1\n",
    "I need to search Colorado orogeny, find the area that the eastern sector of the Colorado orogeny extends into, then find the elevation range of the area.\n",
    "\n",
    "Action 1\n",
    "<search>Colorado orogeny</search>\n",
    "\n",
    "Observation 1\n",
    "The Colorado orogeny was an episode of mountain building (an orogeny) in Colorado and surrounding areas.\n",
    "\n",
    "Thought 2\n",
    "It does not mention the eastern sector. So I need to look up eastern sector.\n",
    "\n",
    "Action 2\n",
    "<lookup>eastern sector</lookup>\n",
    "\n",
    "Observation 2\n",
    "The eastern sector extends into the High Plains and is called the Central Plains orogeny.\n",
    "\n",
    "Thought 3\n",
    "The eastern sector of Colorado orogeny extends into the High Plains. So I need to search High Plains and find its elevation range.\n",
    "\n",
    "Action 3\n",
    "<search>High Plains</search>\n",
    "\n",
    "Observation 3\n",
    "High Plains refers to one of two distinct land regions\n",
    "\n",
    "Thought 4\n",
    "I need to instead search High Plains (United States).\n",
    "\n",
    "Action 4\n",
    "<search>High Plains (United States)</search>\n",
    "\n",
    "Observation 4\n",
    "The High Plains are a subregion of the Great Plains. From east to west, the High Plains rise in elevation from around 1,800 to 7,000 ft (550 to 2,130m).\n",
    "\n",
    "Thought 5\n",
    "High Plains rise in elevation from around 1,800 to 7,000 ft, so the answer is 1,800 to 7,000 ft.\n",
    "\n",
    "Action 5\n",
    "<finish>1,800 to 7,000 ft</finish>\n",
    "\"\"\"\n",
    "\n",
    "# Come up with more examples yourself, or take a look through https://github.com/ysymyth/ReAct/"
   ]
  },
  {
   "cell_type": "markdown",
   "id": "78e581c7",
   "metadata": {
    "id": "C3wbfstjTgey",
    "papermill": {
     "duration": 0.013938,
     "end_time": "2025-04-01T22:42:17.630010",
     "exception": false,
     "start_time": "2025-04-01T22:42:17.616072",
     "status": "completed"
    },
    "tags": []
   },
   "source": [
    "To capture a single step at a time, while ignoring any hallucinated Observation steps, you will use `stop_sequences` to end the generation process. The steps are `Thought`, `Action`, `Observation`, in that order."
   ]
  },
  {
   "cell_type": "code",
   "execution_count": 27,
   "id": "dcd8e296",
   "metadata": {
    "execution": {
     "iopub.execute_input": "2025-04-01T22:42:17.659898Z",
     "iopub.status.busy": "2025-04-01T22:42:17.659538Z",
     "iopub.status.idle": "2025-04-01T22:42:18.232084Z",
     "shell.execute_reply": "2025-04-01T22:42:18.230813Z"
    },
    "id": "8mxrXRkRTdXm",
    "papermill": {
     "duration": 0.590611,
     "end_time": "2025-04-01T22:42:18.234722",
     "exception": false,
     "start_time": "2025-04-01T22:42:17.644111",
     "status": "completed"
    },
    "tags": []
   },
   "outputs": [
    {
     "name": "stdout",
     "output_type": "stream",
     "text": [
      "Thought 1\n",
      "I need to find the transformers NLP paper, find the authors, and identify the youngest author.\n",
      "\n",
      "Action 1\n",
      "<search>transformers NLP paper</search>\n",
      "\n"
     ]
    }
   ],
   "source": [
    "question = \"\"\"Question\n",
    "Who was the youngest author listed on the transformers NLP paper?\n",
    "\"\"\"\n",
    "\n",
    "# You will perform the Action; so generate up to, but not including, the Observation.\n",
    "react_config = types.GenerateContentConfig(\n",
    "    stop_sequences=[\"\\nObservation\"],\n",
    "    system_instruction=model_instructions + example1 + example2,\n",
    ")\n",
    "\n",
    "# Create a chat that has the model instructions and examples pre-seeded.\n",
    "react_chat = client.chats.create(\n",
    "    model='gemini-2.0-flash',\n",
    "    config=react_config,\n",
    ")\n",
    "\n",
    "resp = react_chat.send_message(question)\n",
    "print(resp.text)"
   ]
  },
  {
   "cell_type": "markdown",
   "id": "7cd780e3",
   "metadata": {
    "id": "aW2PIdLbVv3l",
    "papermill": {
     "duration": 0.015358,
     "end_time": "2025-04-01T22:42:18.264433",
     "exception": false,
     "start_time": "2025-04-01T22:42:18.249075",
     "status": "completed"
    },
    "tags": []
   },
   "source": [
    "Now you can perform this research yourself and supply it back to the model."
   ]
  },
  {
   "cell_type": "code",
   "execution_count": 28,
   "id": "7a2093ed",
   "metadata": {
    "execution": {
     "iopub.execute_input": "2025-04-01T22:42:18.294223Z",
     "iopub.status.busy": "2025-04-01T22:42:18.293873Z",
     "iopub.status.idle": "2025-04-01T22:42:19.075213Z",
     "shell.execute_reply": "2025-04-01T22:42:19.074136Z"
    },
    "id": "mLMc0DZaV9g2",
    "papermill": {
     "duration": 0.79916,
     "end_time": "2025-04-01T22:42:19.077662",
     "exception": false,
     "start_time": "2025-04-01T22:42:18.278502",
     "status": "completed"
    },
    "tags": []
   },
   "outputs": [
    {
     "name": "stdout",
     "output_type": "stream",
     "text": [
      "Thought 2\n",
      "The paper is \"Attention Is All You Need\". Now I need to find the youngest author among Ashish Vaswani, Noam Shazeer, Niki Parmar, Jakob Uszkoreit, Llion Jones, Aidan N. Gomez, Lukasz Kaiser, Illia Polosukhin. I will search each author individually to find their birth year.\n",
      "\n",
      "Action 2\n",
      "<search>Ashish Vaswani</search>\n",
      "\n"
     ]
    }
   ],
   "source": [
    "observation = \"\"\"Observation 1\n",
    "[1706.03762] Attention Is All You Need\n",
    "Ashish Vaswani, Noam Shazeer, Niki Parmar, Jakob Uszkoreit, Llion Jones, Aidan N. Gomez, Lukasz Kaiser, Illia Polosukhin\n",
    "We propose a new simple network architecture, the Transformer, based solely on attention mechanisms, dispensing with recurrence and convolutions entirely.\n",
    "\"\"\"\n",
    "resp = react_chat.send_message(observation)\n",
    "print(resp.text)"
   ]
  },
  {
   "cell_type": "markdown",
   "id": "14d421bf",
   "metadata": {
    "id": "bo0tzf4nX6dA",
    "papermill": {
     "duration": 0.015333,
     "end_time": "2025-04-01T22:42:19.107694",
     "exception": false,
     "start_time": "2025-04-01T22:42:19.092361",
     "status": "completed"
    },
    "tags": []
   },
   "source": [
    "This process repeats until the `<finish>` action is reached. You can continue running this yourself if you like, or try the [Wikipedia example](https://github.com/google-gemini/cookbook/blob/main/examples/Search_Wikipedia_using_ReAct.ipynb) to see a fully automated ReAct system at work."
   ]
  },
  {
   "cell_type": "markdown",
   "id": "52f60e51",
   "metadata": {
    "papermill": {
     "duration": 0.013634,
     "end_time": "2025-04-01T22:42:19.135527",
     "exception": false,
     "start_time": "2025-04-01T22:42:19.121893",
     "status": "completed"
    },
    "tags": []
   },
   "source": [
    "## Thinking mode\n",
    "\n",
    "The experiemental Gemini Flash 2.0 \"Thinking\" model has been trained to generate the \"thinking process\" the model goes through as part of its response. As a result, the Flash Thinking model is capable of stronger reasoning capabilities in its responses.\n",
    "\n",
    "Using a \"thinking mode\" model can provide you with high-quality responses without needing specialised prompting like the previous approaches. One reason this technique is effective is that you induce the model to generate relevant information (\"brainstorming\", or \"thoughts\") that is then used as part of the context in which the final response is generated.\n",
    "\n",
    "Note that when you use the API, you get the final response from the model, but the thoughts are not captured. To see the intermediate thoughts, try out [the thinking mode model in AI Studio](https://aistudio.google.com/prompts/new_chat?model=gemini-2.0-flash-thinking-exp-01-21).\n",
    "\n",
    "<table align=left>\n",
    "  <td>\n",
    "    <a target=\"_blank\" href=\"https://aistudio.google.com/prompts/1Z991SV7lZZZqioOiqIUPv9a9ix-ws4zk\"><img src=\"https://ai.google.dev/site-assets/images/marketing/home/icon-ais.png\" style=\"height: 24px\" height=24/> Open in AI Studio</a>\n",
    "  </td>\n",
    "</table>"
   ]
  },
  {
   "cell_type": "code",
   "execution_count": 29,
   "id": "59da5340",
   "metadata": {
    "execution": {
     "iopub.execute_input": "2025-04-01T22:42:19.165828Z",
     "iopub.status.busy": "2025-04-01T22:42:19.164914Z",
     "iopub.status.idle": "2025-04-01T22:42:25.479303Z",
     "shell.execute_reply": "2025-04-01T22:42:25.478223Z"
    },
    "papermill": {
     "duration": 6.331656,
     "end_time": "2025-04-01T22:42:25.481377",
     "exception": false,
     "start_time": "2025-04-01T22:42:19.149721",
     "status": "completed"
    },
    "tags": []
   },
   "outputs": [
    {
     "data": {
      "text/markdown": [
       "Based on the information publicly available, **Aidan N. Gomez** is likely the youngest author listed on the \"Attention is All You Need\" paper, which introduced the Transformer architecture.\n",
       "\n",
       "Here's why:\n",
       "\n",
       "* **Affiliation:** At the time of the paper's publication (2017), Aidan N. Gomez was affiliated with the University of Toronto *and* Google Brain.  This suggests he was likely a PhD student or a younger researcher working in an academic/research setting. The other authors were primarily affiliated with Google Brain or Google Research, suggesting more established research positions.\n",
       "\n",
       "* **Typical Career Trajectory:**  It's common for PhD students and early-career researchers to collaborate with more senior researchers at organizations like Google Brain. This often places them at a younger career stage, and thus likely younger in age.\n",
       "\n",
       "* **Public Profiles:**  A quick search for Aidan N. Gomez will often highlight his academic background and early career trajectory, further supporting the idea that he was likely earlier in his career compared to the other authors at the time of the paper.\n",
       "\n",
       "**It's important to note:** We don't have publicly available birthdates for all the authors to definitively say who is *biologically* the youngest. However, based on career stage indicators and typical academic/research paths, Aidan N. Gomez stands out as the most likely youngest author at the time of the \"Attention is All You Need\" paper's publication.\n",
       "\n",
       "To be absolutely certain, you would need access to private information about the authors' ages, which is generally not publicly available or relevant to the paper's content.  In the context of the question, \"youngest author\" is best interpreted based on career stage and publicly available affiliations."
      ],
      "text/plain": [
       "<IPython.core.display.Markdown object>"
      ]
     },
     "execution_count": 29,
     "metadata": {},
     "output_type": "execute_result"
    }
   ],
   "source": [
    "import io\n",
    "from IPython.display import Markdown, clear_output\n",
    "\n",
    "\n",
    "response = client.models.generate_content_stream(\n",
    "    model='gemini-2.0-flash-thinking-exp',\n",
    "    contents='Who was the youngest author listed on the transformers NLP paper?',\n",
    ")\n",
    "buf = io.StringIO()\n",
    "for chunk in response:\n",
    "    buf.write(chunk.text)\n",
    "    # Display the response as it is streamed\n",
    "    print(chunk.text, end='')\n",
    "\n",
    "# And then render the finished response as formatted markdown.\n",
    "clear_output()\n",
    "Markdown(buf.getvalue())"
   ]
  },
  {
   "cell_type": "markdown",
   "id": "bf63f88b",
   "metadata": {
    "id": "jPiZ_eIIaVPt",
    "papermill": {
     "duration": 0.014815,
     "end_time": "2025-04-01T22:42:25.510949",
     "exception": false,
     "start_time": "2025-04-01T22:42:25.496134",
     "status": "completed"
    },
    "tags": []
   },
   "source": [
    "## Code prompting"
   ]
  },
  {
   "cell_type": "markdown",
   "id": "3ceb365c",
   "metadata": {
    "id": "ZinKamwXeR6C",
    "papermill": {
     "duration": 0.014825,
     "end_time": "2025-04-01T22:42:25.541003",
     "exception": false,
     "start_time": "2025-04-01T22:42:25.526178",
     "status": "completed"
    },
    "tags": []
   },
   "source": [
    "### Generating code\n",
    "\n",
    "The Gemini family of models can be used to generate code, configuration and scripts. Generating code can be helpful when learning to code, learning a new language or for rapidly generating a first draft.\n",
    "\n",
    "It's important to be aware that since LLMs can make mistakes, and can repeat training data, it's essential to read and test your code first, and comply with any relevant licenses.\n",
    "\n",
    "<table align=left>\n",
    "  <td>\n",
    "    <a target=\"_blank\" href=\"https://aistudio.google.com/prompts/1YX71JGtzDjXQkgdes8bP6i3oH5lCRKxv\"><img src=\"https://ai.google.dev/site-assets/images/marketing/home/icon-ais.png\" style=\"height: 24px\" height=24/> Open in AI Studio</a>\n",
    "  </td>\n",
    "</table>"
   ]
  },
  {
   "cell_type": "code",
   "execution_count": 30,
   "id": "c805915a",
   "metadata": {
    "execution": {
     "iopub.execute_input": "2025-04-01T22:42:25.572204Z",
     "iopub.status.busy": "2025-04-01T22:42:25.571500Z",
     "iopub.status.idle": "2025-04-01T22:42:26.480163Z",
     "shell.execute_reply": "2025-04-01T22:42:26.479200Z"
    },
    "id": "fOQP9pqmeUO1",
    "papermill": {
     "duration": 0.926535,
     "end_time": "2025-04-01T22:42:26.482279",
     "exception": false,
     "start_time": "2025-04-01T22:42:25.555744",
     "status": "completed"
    },
    "tags": []
   },
   "outputs": [
    {
     "data": {
      "text/markdown": [
       "```python\n",
       "def factorial(n):\n",
       "  \"\"\"\n",
       "  Calculate the factorial of a number.\n",
       "\n",
       "  Args:\n",
       "    n: A non-negative integer.\n",
       "\n",
       "  Returns:\n",
       "    The factorial of n.\n",
       "  \"\"\"\n",
       "  if n == 0:\n",
       "    return 1\n",
       "  else:\n",
       "    return n * factorial(n-1)\n",
       "```\n"
      ],
      "text/plain": [
       "<IPython.core.display.Markdown object>"
      ]
     },
     "execution_count": 30,
     "metadata": {},
     "output_type": "execute_result"
    }
   ],
   "source": [
    "# The Gemini models love to talk, so it helps to specify they stick to the code if that\n",
    "# is all that you want.\n",
    "code_prompt = \"\"\"\n",
    "Write a Python function to calculate the factorial of a number. No explanation, provide only the code.\n",
    "\"\"\"\n",
    "\n",
    "response = client.models.generate_content(\n",
    "    model='gemini-2.0-flash',\n",
    "    config=types.GenerateContentConfig(\n",
    "        temperature=1,\n",
    "        top_p=1,\n",
    "        max_output_tokens=1024,\n",
    "    ),\n",
    "    contents=code_prompt)\n",
    "\n",
    "Markdown(response.text)"
   ]
  },
  {
   "cell_type": "markdown",
   "id": "90c012dc",
   "metadata": {
    "id": "wlBMWSFhgVRQ",
    "papermill": {
     "duration": 0.014495,
     "end_time": "2025-04-01T22:42:26.511448",
     "exception": false,
     "start_time": "2025-04-01T22:42:26.496953",
     "status": "completed"
    },
    "tags": []
   },
   "source": [
    "### Code execution\n",
    "\n",
    "The Gemini API can automatically run generated code too, and will return the output.\n",
    "\n",
    "<table align=left>\n",
    "  <td>\n",
    "    <a target=\"_blank\" href=\"https://aistudio.google.com/prompts/11veFr_VYEwBWcLkhNLr-maCG0G8sS_7Z\"><img src=\"https://ai.google.dev/site-assets/images/marketing/home/icon-ais.png\" style=\"height: 24px\" height=24/> Open in AI Studio</a>\n",
    "  </td>\n",
    "</table>"
   ]
  },
  {
   "cell_type": "code",
   "execution_count": 31,
   "id": "c356b1e5",
   "metadata": {
    "execution": {
     "iopub.execute_input": "2025-04-01T22:42:26.542465Z",
     "iopub.status.busy": "2025-04-01T22:42:26.542076Z",
     "iopub.status.idle": "2025-04-01T22:42:28.724670Z",
     "shell.execute_reply": "2025-04-01T22:42:28.723554Z"
    },
    "id": "jT3OfWYfhjRL",
    "papermill": {
     "duration": 2.200654,
     "end_time": "2025-04-01T22:42:28.726846",
     "exception": false,
     "start_time": "2025-04-01T22:42:26.526192",
     "status": "completed"
    },
    "tags": []
   },
   "outputs": [
    {
     "name": "stdout",
     "output_type": "stream",
     "text": [
      "{'text': 'Okay, I can do that. First, I need to generate the first 14 odd '\n",
      "         'prime numbers. Remember that a prime number is a number greater than '\n",
      "         '1 that has only two divisors: 1 and itself. Odd means it is not '\n",
      "         'divisible by 2. The first few primes are 2, 3, 5, 7, 11, etc. Since '\n",
      "         \"I need the *odd* prime numbers, I'll exclude 2.\\n\"\n",
      "         '\\n'\n",
      "         \"Here's the list: 3, 5, 7, 11, 13, 17, 19, 23, 29, 31, 37, 41, 43, \"\n",
      "         '47.\\n'\n",
      "         '\\n'\n",
      "         \"Now I'll calculate their sum using a python code block.\\n\"\n",
      "         '\\n'}\n",
      "-----\n",
      "{'executable_code': {'code': 'primes = [3, 5, 7, 11, 13, 17, 19, 23, 29, 31, '\n",
      "                             '37, 41, 43, 47]\\n'\n",
      "                             'sum_of_primes = sum(primes)\\n'\n",
      "                             'print(sum_of_primes)\\n',\n",
      "                     'language': 'PYTHON'}}\n",
      "-----\n",
      "{'code_execution_result': {'outcome': 'OUTCOME_OK', 'output': '326\\n'}}\n",
      "-----\n",
      "{'text': 'The first 14 odd prime numbers are 3, 5, 7, 11, 13, 17, 19, 23, 29, '\n",
      "         '31, 37, 41, 43, and 47. Their sum is 326.\\n'}\n",
      "-----\n"
     ]
    }
   ],
   "source": [
    "from pprint import pprint\n",
    "\n",
    "config = types.GenerateContentConfig(\n",
    "    tools=[types.Tool(code_execution=types.ToolCodeExecution())],\n",
    ")\n",
    "\n",
    "code_exec_prompt = \"\"\"\n",
    "Generate the first 14 odd prime numbers, then calculate their sum.\n",
    "\"\"\"\n",
    "\n",
    "response = client.models.generate_content(\n",
    "    model='gemini-2.0-flash',\n",
    "    config=config,\n",
    "    contents=code_exec_prompt)\n",
    "\n",
    "for part in response.candidates[0].content.parts:\n",
    "  pprint(part.to_json_dict())\n",
    "  print(\"-----\")"
   ]
  },
  {
   "cell_type": "markdown",
   "id": "df56a1d4",
   "metadata": {
    "id": "ZspT1GSkjG6d",
    "papermill": {
     "duration": 0.01506,
     "end_time": "2025-04-01T22:42:28.757061",
     "exception": false,
     "start_time": "2025-04-01T22:42:28.742001",
     "status": "completed"
    },
    "tags": []
   },
   "source": [
    "This response contains multiple parts, including an opening and closing text part that represent regular responses, an `executable_code` part that represents generated code and a `code_execution_result` part that represents the results from running the generated code.\n",
    "\n",
    "You can explore them individually."
   ]
  },
  {
   "cell_type": "code",
   "execution_count": 32,
   "id": "39608146",
   "metadata": {
    "execution": {
     "iopub.execute_input": "2025-04-01T22:42:28.788679Z",
     "iopub.status.busy": "2025-04-01T22:42:28.788302Z",
     "iopub.status.idle": "2025-04-01T22:42:28.801878Z",
     "shell.execute_reply": "2025-04-01T22:42:28.800914Z"
    },
    "papermill": {
     "duration": 0.031728,
     "end_time": "2025-04-01T22:42:28.803814",
     "exception": false,
     "start_time": "2025-04-01T22:42:28.772086",
     "status": "completed"
    },
    "tags": []
   },
   "outputs": [
    {
     "data": {
      "text/markdown": [
       "Okay, I can do that. First, I need to generate the first 14 odd prime numbers. Remember that a prime number is a number greater than 1 that has only two divisors: 1 and itself. Odd means it is not divisible by 2. The first few primes are 2, 3, 5, 7, 11, etc. Since I need the *odd* prime numbers, I'll exclude 2.\n",
       "\n",
       "Here's the list: 3, 5, 7, 11, 13, 17, 19, 23, 29, 31, 37, 41, 43, 47.\n",
       "\n",
       "Now I'll calculate their sum using a python code block.\n",
       "\n"
      ],
      "text/plain": [
       "<IPython.core.display.Markdown object>"
      ]
     },
     "metadata": {},
     "output_type": "display_data"
    },
    {
     "data": {
      "text/markdown": [
       "```python\n",
       "primes = [3, 5, 7, 11, 13, 17, 19, 23, 29, 31, 37, 41, 43, 47]\n",
       "sum_of_primes = sum(primes)\n",
       "print(sum_of_primes)\n",
       "\n",
       "```"
      ],
      "text/plain": [
       "<IPython.core.display.Markdown object>"
      ]
     },
     "metadata": {},
     "output_type": "display_data"
    },
    {
     "data": {
      "text/markdown": [
       "```\n",
       "326\n",
       "\n",
       "```"
      ],
      "text/plain": [
       "<IPython.core.display.Markdown object>"
      ]
     },
     "metadata": {},
     "output_type": "display_data"
    },
    {
     "data": {
      "text/markdown": [
       "The first 14 odd prime numbers are 3, 5, 7, 11, 13, 17, 19, 23, 29, 31, 37, 41, 43, and 47. Their sum is 326.\n"
      ],
      "text/plain": [
       "<IPython.core.display.Markdown object>"
      ]
     },
     "metadata": {},
     "output_type": "display_data"
    }
   ],
   "source": [
    "for part in response.candidates[0].content.parts:\n",
    "    if part.text:\n",
    "        display(Markdown(part.text))\n",
    "    elif part.executable_code:\n",
    "        display(Markdown(f'```python\\n{part.executable_code.code}\\n```'))\n",
    "    elif part.code_execution_result:\n",
    "        if part.code_execution_result.outcome != 'OUTCOME_OK':\n",
    "            display(Markdown(f'## Status {part.code_execution_result.outcome}'))\n",
    "\n",
    "        display(Markdown(f'```\\n{part.code_execution_result.output}\\n```'))"
   ]
  },
  {
   "cell_type": "markdown",
   "id": "bd2a0d3a",
   "metadata": {
    "id": "1gUX8QzCj4d5",
    "papermill": {
     "duration": 0.014853,
     "end_time": "2025-04-01T22:42:28.833868",
     "exception": false,
     "start_time": "2025-04-01T22:42:28.819015",
     "status": "completed"
    },
    "tags": []
   },
   "source": [
    "### Explaining code\n",
    "\n",
    "The Gemini family of models can explain code to you too. In this example, you pass a [bash script](https://github.com/magicmonty/bash-git-prompt) and ask some questions.\n",
    "\n",
    "<table align=left>\n",
    "  <td>\n",
    "    <a target=\"_blank\" href=\"https://aistudio.google.com/prompts/1N7LGzWzCYieyOf_7bAG4plrmkpDNmUyb\"><img src=\"https://ai.google.dev/site-assets/images/marketing/home/icon-ais.png\" style=\"height: 24px\" height=24/> Open in AI Studio</a>\n",
    "  </td>\n",
    "</table>"
   ]
  },
  {
   "cell_type": "code",
   "execution_count": 33,
   "id": "3fee4d3b",
   "metadata": {
    "execution": {
     "iopub.execute_input": "2025-04-01T22:42:28.866461Z",
     "iopub.status.busy": "2025-04-01T22:42:28.865383Z",
     "iopub.status.idle": "2025-04-01T22:42:31.521335Z",
     "shell.execute_reply": "2025-04-01T22:42:31.520094Z"
    },
    "id": "7_jPMMoxkIEb",
    "papermill": {
     "duration": 2.675073,
     "end_time": "2025-04-01T22:42:31.524001",
     "exception": false,
     "start_time": "2025-04-01T22:42:28.848928",
     "status": "completed"
    },
    "tags": []
   },
   "outputs": [
    {
     "data": {
      "text/markdown": [
       "This file is a **bash/zsh script designed to enhance your command-line prompt with Git repository status information.**\n",
       "\n",
       "**In essence, it does the following:**\n",
       "\n",
       "1.  **Detects Git Repository:** It checks if the current directory is within a Git repository.\n",
       "2.  **Fetches Git Status:** If in a Git repository, it retrieves information such as the current branch, staged/unstaged changes, untracked files, and remote status (ahead/behind).\n",
       "3.  **Formats the Prompt:** It uses this Git status information, along with colors and symbols defined in theme files, to construct a visually informative prompt.  You can customize the colors and information shown in the prompt.\n",
       "4.  **Sets the `PS1` Variable:**  It sets the `PS1` environment variable (the primary prompt string in bash/zsh) to include the generated Git status.\n",
       "5.  **Asynchronous Updates:**  It can optionally fetch remote status asynchronously, so your prompt doesn't block while waiting for network operations.\n",
       "6.  **Virtual Environment Support:** It detects and displays information about active Python virtual environments (using `VIRTUAL_ENV`), Node.js virtual environments (`NODE_VIRTUAL_ENV`), and Conda environments (`CONDA_DEFAULT_ENV`).\n",
       "7.  **Customization:** Offers theming and configuration options to tailor the prompt's appearance.\n",
       "\n",
       "**Why would you use it?**\n",
       "\n",
       "*   **Quick Git Status:**  Immediately see the state of your Git repository without running `git status`.\n",
       "*   **Improved Workflow:**  A visually informative prompt helps you stay aware of your Git environment.\n",
       "*   **Customization:**  Tailor the prompt to your preferences for colors, symbols, and displayed information.\n",
       "*   **Virtual Environment Awareness:** Shows which virtual environment is active in your shell.\n",
       "\n",
       "In short, this script provides a convenient and customizable way to integrate Git status information directly into your command-line prompt, improving your Git workflow.\n"
      ],
      "text/plain": [
       "<IPython.core.display.Markdown object>"
      ]
     },
     "execution_count": 33,
     "metadata": {},
     "output_type": "execute_result"
    }
   ],
   "source": [
    "file_contents = !curl https://raw.githubusercontent.com/magicmonty/bash-git-prompt/refs/heads/master/gitprompt.sh\n",
    "\n",
    "explain_prompt = f\"\"\"\n",
    "Please explain what this file does at a very high level. What is it, and why would I use it?\n",
    "\n",
    "```\n",
    "{file_contents}\n",
    "```\n",
    "\"\"\"\n",
    "\n",
    "response = client.models.generate_content(\n",
    "    model='gemini-2.0-flash',\n",
    "    contents=explain_prompt)\n",
    "\n",
    "Markdown(response.text)"
   ]
  },
  {
   "cell_type": "markdown",
   "id": "8bcda25a",
   "metadata": {
    "id": "2a8266d97ce5",
    "papermill": {
     "duration": 0.018751,
     "end_time": "2025-04-01T22:42:31.570128",
     "exception": false,
     "start_time": "2025-04-01T22:42:31.551377",
     "status": "completed"
    },
    "tags": []
   },
   "source": [
    "## Learn more\n",
    "\n",
    "To learn more about prompting in depth:\n",
    "\n",
    "* Check out the whitepaper issued with today's content,\n",
    "* Try out the apps listed at the top of this notebook ([TextFX](https://textfx.withgoogle.com/), [SQL Talk](https://sql-talk-r5gdynozbq-uc.a.run.app/) and [NotebookLM](https://notebooklm.google/)),\n",
    "* Read the [Introduction to Prompting](https://ai.google.dev/gemini-api/docs/prompting-intro) from the Gemini API docs,\n",
    "* Explore the Gemini API's [prompt gallery](https://ai.google.dev/gemini-api/prompts) and try them out in AI Studio,\n",
    "* Check out the Gemini API cookbook for [inspirational examples](https://github.com/google-gemini/cookbook/blob/main/examples/) and [educational quickstarts](https://github.com/google-gemini/cookbook/blob/main/quickstarts/).\n",
    "\n",
    "Be sure to check out the codelabs on day 3 too, where you will explore some more advanced prompting with code execution.\n",
    "\n",
    "And please share anything exciting you have tried in the Discord!\n",
    "\n",
    "*- [Mark McD](https://linktr.ee/markmcd)*"
   ]
  }
 ],
 "metadata": {
  "colab": {
   "name": "day-1-prompting.ipynb",
   "toc_visible": true
  },
  "kaggle": {
   "accelerator": "none",
   "dataSources": [],
   "dockerImageVersionId": 30786,
   "isGpuEnabled": false,
   "isInternetEnabled": true,
   "language": "python",
   "sourceType": "notebook"
  },
  "kernelspec": {
   "display_name": "Python 3",
   "language": "python",
   "name": "python3"
  },
  "language_info": {
   "codemirror_mode": {
    "name": "ipython",
    "version": 3
   },
   "file_extension": ".py",
   "mimetype": "text/x-python",
   "name": "python",
   "nbconvert_exporter": "python",
   "pygments_lexer": "ipython3",
   "version": "3.10.14"
  },
  "papermill": {
   "default_parameters": {},
   "duration": 156.358135,
   "end_time": "2025-04-01T22:42:32.308197",
   "environment_variables": {},
   "exception": null,
   "input_path": "__notebook__.ipynb",
   "output_path": "__notebook__.ipynb",
   "parameters": {},
   "start_time": "2025-04-01T22:39:55.950062",
   "version": "2.6.0"
  }
 },
 "nbformat": 4,
 "nbformat_minor": 5
}
